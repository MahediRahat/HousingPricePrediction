{
  "cells": [
    {
      "cell_type": "code",
      "execution_count": 208,
      "metadata": {
        "id": "9M-hKtb0jyU3"
      },
      "outputs": [],
      "source": [
        "import pandas as pd\n",
        "import numpy as np\n",
        "import matplotlib.pyplot as plt"
      ]
    },
    {
      "cell_type": "markdown",
      "metadata": {
        "id": "MW5EmW9tMGDe"
      },
      "source": []
    },
    {
      "cell_type": "code",
      "execution_count": 209,
      "metadata": {
        "id": "AHKqnfWPkLGA"
      },
      "outputs": [],
      "source": [
        "df=pd.read_csv('house_price_bd.csv')"
      ]
    },
    {
      "cell_type": "code",
      "execution_count": 210,
      "metadata": {},
      "outputs": [
        {
          "data": {
            "text/plain": [
              "City\n",
              "dhaka               1650\n",
              "chattogram          1470\n",
              "narayanganj-city     420\n",
              "gazipur              180\n",
              "cumilla              145\n",
              "Name: count, dtype: int64"
            ]
          },
          "execution_count": 210,
          "metadata": {},
          "output_type": "execute_result"
        }
      ],
      "source": [
        "df['City'].value_counts()"
      ]
    },
    {
      "cell_type": "code",
      "execution_count": 211,
      "metadata": {
        "id": "bapVuAoTkT95"
      },
      "outputs": [
        {
          "data": {
            "text/plain": [
              "Title                  0\n",
              "Bedrooms            1001\n",
              "Bathrooms           1001\n",
              "Floor_no             684\n",
              "Occupancy_status      99\n",
              "Floor_area            99\n",
              "City                   0\n",
              "Price_in_taka          0\n",
              "Location               6\n",
              "dtype: int64"
            ]
          },
          "execution_count": 211,
          "metadata": {},
          "output_type": "execute_result"
        }
      ],
      "source": [
        "df.isnull().sum()"
      ]
    },
    {
      "cell_type": "markdown",
      "metadata": {
        "id": "tON8vCzwwCNe"
      },
      "source": []
    },
    {
      "cell_type": "code",
      "execution_count": 212,
      "metadata": {
        "id": "g1kOMsUdq5YX"
      },
      "outputs": [
        {
          "data": {
            "text/plain": [
              "Title                  0\n",
              "Bedrooms            1001\n",
              "Bathrooms           1001\n",
              "Floor_no             684\n",
              "Occupancy_status      99\n",
              "Floor_area            99\n",
              "City                   0\n",
              "Price_in_taka          0\n",
              "Location               6\n",
              "dtype: int64"
            ]
          },
          "execution_count": 212,
          "metadata": {},
          "output_type": "execute_result"
        }
      ],
      "source": [
        "df.isnull().sum()"
      ]
    },
    {
      "cell_type": "code",
      "execution_count": 213,
      "metadata": {
        "id": "0pdEKrt6kXDy"
      },
      "outputs": [
        {
          "ename": "PermissionError",
          "evalue": "[WinError 5] Access is denied",
          "output_type": "error",
          "traceback": [
            "\u001b[1;31m---------------------------------------------------------------------------\u001b[0m",
            "\u001b[1;31mPermissionError\u001b[0m                           Traceback (most recent call last)",
            "Cell \u001b[1;32mIn[213], line 1\u001b[0m\n\u001b[1;32m----> 1\u001b[0m \u001b[43mget_ipython\u001b[49m\u001b[43m(\u001b[49m\u001b[43m)\u001b[49m\u001b[38;5;241;43m.\u001b[39;49m\u001b[43msystem\u001b[49m\u001b[43m(\u001b[49m\u001b[38;5;124;43m'\u001b[39;49m\u001b[38;5;124;43mpip install ydata-profiling\u001b[39;49m\u001b[38;5;124;43m'\u001b[39;49m\u001b[43m)\u001b[49m\n\u001b[0;32m      2\u001b[0m \u001b[38;5;28;01mfrom\u001b[39;00m \u001b[38;5;21;01mydata_profiling\u001b[39;00m \u001b[38;5;28;01mimport\u001b[39;00m ProfileReport\n",
            "File \u001b[1;32mc:\\Users\\S. R. Samim\\AppData\\Local\\Programs\\Python\\Python312\\Lib\\site-packages\\ipykernel\\zmqshell.py:655\u001b[0m, in \u001b[0;36mZMQInteractiveShell.system_piped\u001b[1;34m(self, cmd)\u001b[0m\n\u001b[0;32m    653\u001b[0m         \u001b[38;5;28;01mif\u001b[39;00m path \u001b[38;5;129;01mis\u001b[39;00m \u001b[38;5;129;01mnot\u001b[39;00m \u001b[38;5;28;01mNone\u001b[39;00m:\n\u001b[0;32m    654\u001b[0m             cmd \u001b[38;5;241m=\u001b[39m \u001b[38;5;124mf\u001b[39m\u001b[38;5;124m\"\u001b[39m\u001b[38;5;124mpushd \u001b[39m\u001b[38;5;132;01m{\u001b[39;00mpath\u001b[38;5;132;01m}\u001b[39;00m\u001b[38;5;124m &&\u001b[39m\u001b[38;5;132;01m{\u001b[39;00mcmd\u001b[38;5;132;01m}\u001b[39;00m\u001b[38;5;124m\"\u001b[39m\n\u001b[1;32m--> 655\u001b[0m         \u001b[38;5;28mself\u001b[39m\u001b[38;5;241m.\u001b[39muser_ns[\u001b[38;5;124m\"\u001b[39m\u001b[38;5;124m_exit_code\u001b[39m\u001b[38;5;124m\"\u001b[39m] \u001b[38;5;241m=\u001b[39m \u001b[43msystem\u001b[49m\u001b[43m(\u001b[49m\u001b[43mcmd\u001b[49m\u001b[43m)\u001b[49m\n\u001b[0;32m    656\u001b[0m \u001b[38;5;28;01melse\u001b[39;00m:\n\u001b[0;32m    657\u001b[0m     \u001b[38;5;28mself\u001b[39m\u001b[38;5;241m.\u001b[39muser_ns[\u001b[38;5;124m\"\u001b[39m\u001b[38;5;124m_exit_code\u001b[39m\u001b[38;5;124m\"\u001b[39m] \u001b[38;5;241m=\u001b[39m system(\u001b[38;5;28mself\u001b[39m\u001b[38;5;241m.\u001b[39mvar_expand(cmd, depth\u001b[38;5;241m=\u001b[39m\u001b[38;5;241m1\u001b[39m))\n",
            "File \u001b[1;32mc:\\Users\\S. R. Samim\\AppData\\Local\\Programs\\Python\\Python312\\Lib\\site-packages\\IPython\\utils\\_process_win32.py:124\u001b[0m, in \u001b[0;36msystem\u001b[1;34m(cmd)\u001b[0m\n\u001b[0;32m    122\u001b[0m \u001b[38;5;28;01mif\u001b[39;00m path \u001b[38;5;129;01mis\u001b[39;00m \u001b[38;5;129;01mnot\u001b[39;00m \u001b[38;5;28;01mNone\u001b[39;00m:\n\u001b[0;32m    123\u001b[0m     cmd \u001b[38;5;241m=\u001b[39m \u001b[38;5;124m'\u001b[39m\u001b[38;5;124m\"\u001b[39m\u001b[38;5;124mpushd \u001b[39m\u001b[38;5;132;01m%s\u001b[39;00m\u001b[38;5;124m &&\u001b[39m\u001b[38;5;124m\"\u001b[39m\u001b[38;5;132;01m%s\u001b[39;00m\u001b[38;5;124m'\u001b[39m \u001b[38;5;241m%\u001b[39m (path, cmd)\n\u001b[1;32m--> 124\u001b[0m \u001b[38;5;28;01mreturn\u001b[39;00m \u001b[43mprocess_handler\u001b[49m\u001b[43m(\u001b[49m\u001b[43mcmd\u001b[49m\u001b[43m,\u001b[49m\u001b[43m \u001b[49m\u001b[43m_system_body\u001b[49m\u001b[43m)\u001b[49m\n",
            "File \u001b[1;32mc:\\Users\\S. R. Samim\\AppData\\Local\\Programs\\Python\\Python312\\Lib\\site-packages\\IPython\\utils\\_process_common.py:77\u001b[0m, in \u001b[0;36mprocess_handler\u001b[1;34m(cmd, callback, stderr)\u001b[0m\n\u001b[0;32m     75\u001b[0m \u001b[38;5;28;01mif\u001b[39;00m shell \u001b[38;5;129;01mand\u001b[39;00m os\u001b[38;5;241m.\u001b[39mname \u001b[38;5;241m==\u001b[39m \u001b[38;5;124m'\u001b[39m\u001b[38;5;124mposix\u001b[39m\u001b[38;5;124m'\u001b[39m \u001b[38;5;129;01mand\u001b[39;00m \u001b[38;5;124m'\u001b[39m\u001b[38;5;124mSHELL\u001b[39m\u001b[38;5;124m'\u001b[39m \u001b[38;5;129;01min\u001b[39;00m os\u001b[38;5;241m.\u001b[39menviron:\n\u001b[0;32m     76\u001b[0m     executable \u001b[38;5;241m=\u001b[39m os\u001b[38;5;241m.\u001b[39menviron[\u001b[38;5;124m'\u001b[39m\u001b[38;5;124mSHELL\u001b[39m\u001b[38;5;124m'\u001b[39m]\n\u001b[1;32m---> 77\u001b[0m p \u001b[38;5;241m=\u001b[39m \u001b[43msubprocess\u001b[49m\u001b[38;5;241;43m.\u001b[39;49m\u001b[43mPopen\u001b[49m\u001b[43m(\u001b[49m\u001b[43mcmd\u001b[49m\u001b[43m,\u001b[49m\u001b[43m \u001b[49m\u001b[43mshell\u001b[49m\u001b[38;5;241;43m=\u001b[39;49m\u001b[43mshell\u001b[49m\u001b[43m,\u001b[49m\n\u001b[0;32m     78\u001b[0m \u001b[43m                     \u001b[49m\u001b[43mexecutable\u001b[49m\u001b[38;5;241;43m=\u001b[39;49m\u001b[43mexecutable\u001b[49m\u001b[43m,\u001b[49m\n\u001b[0;32m     79\u001b[0m \u001b[43m                     \u001b[49m\u001b[43mstdin\u001b[49m\u001b[38;5;241;43m=\u001b[39;49m\u001b[43msubprocess\u001b[49m\u001b[38;5;241;43m.\u001b[39;49m\u001b[43mPIPE\u001b[49m\u001b[43m,\u001b[49m\n\u001b[0;32m     80\u001b[0m \u001b[43m                     \u001b[49m\u001b[43mstdout\u001b[49m\u001b[38;5;241;43m=\u001b[39;49m\u001b[43msubprocess\u001b[49m\u001b[38;5;241;43m.\u001b[39;49m\u001b[43mPIPE\u001b[49m\u001b[43m,\u001b[49m\n\u001b[0;32m     81\u001b[0m \u001b[43m                     \u001b[49m\u001b[43mstderr\u001b[49m\u001b[38;5;241;43m=\u001b[39;49m\u001b[43mstderr\u001b[49m\u001b[43m,\u001b[49m\n\u001b[0;32m     82\u001b[0m \u001b[43m                     \u001b[49m\u001b[43mclose_fds\u001b[49m\u001b[38;5;241;43m=\u001b[39;49m\u001b[43mclose_fds\u001b[49m\u001b[43m)\u001b[49m\n\u001b[0;32m     84\u001b[0m \u001b[38;5;28;01mtry\u001b[39;00m:\n\u001b[0;32m     85\u001b[0m     out \u001b[38;5;241m=\u001b[39m callback(p)\n",
            "File \u001b[1;32mc:\\Users\\S. R. Samim\\AppData\\Local\\Programs\\Python\\Python312\\Lib\\subprocess.py:1026\u001b[0m, in \u001b[0;36mPopen.__init__\u001b[1;34m(self, args, bufsize, executable, stdin, stdout, stderr, preexec_fn, close_fds, shell, cwd, env, universal_newlines, startupinfo, creationflags, restore_signals, start_new_session, pass_fds, user, group, extra_groups, encoding, errors, text, umask, pipesize, process_group)\u001b[0m\n\u001b[0;32m   1022\u001b[0m         \u001b[38;5;28;01mif\u001b[39;00m \u001b[38;5;28mself\u001b[39m\u001b[38;5;241m.\u001b[39mtext_mode:\n\u001b[0;32m   1023\u001b[0m             \u001b[38;5;28mself\u001b[39m\u001b[38;5;241m.\u001b[39mstderr \u001b[38;5;241m=\u001b[39m io\u001b[38;5;241m.\u001b[39mTextIOWrapper(\u001b[38;5;28mself\u001b[39m\u001b[38;5;241m.\u001b[39mstderr,\n\u001b[0;32m   1024\u001b[0m                     encoding\u001b[38;5;241m=\u001b[39mencoding, errors\u001b[38;5;241m=\u001b[39merrors)\n\u001b[1;32m-> 1026\u001b[0m     \u001b[38;5;28;43mself\u001b[39;49m\u001b[38;5;241;43m.\u001b[39;49m\u001b[43m_execute_child\u001b[49m\u001b[43m(\u001b[49m\u001b[43margs\u001b[49m\u001b[43m,\u001b[49m\u001b[43m \u001b[49m\u001b[43mexecutable\u001b[49m\u001b[43m,\u001b[49m\u001b[43m \u001b[49m\u001b[43mpreexec_fn\u001b[49m\u001b[43m,\u001b[49m\u001b[43m \u001b[49m\u001b[43mclose_fds\u001b[49m\u001b[43m,\u001b[49m\n\u001b[0;32m   1027\u001b[0m \u001b[43m                        \u001b[49m\u001b[43mpass_fds\u001b[49m\u001b[43m,\u001b[49m\u001b[43m \u001b[49m\u001b[43mcwd\u001b[49m\u001b[43m,\u001b[49m\u001b[43m \u001b[49m\u001b[43menv\u001b[49m\u001b[43m,\u001b[49m\n\u001b[0;32m   1028\u001b[0m \u001b[43m                        \u001b[49m\u001b[43mstartupinfo\u001b[49m\u001b[43m,\u001b[49m\u001b[43m \u001b[49m\u001b[43mcreationflags\u001b[49m\u001b[43m,\u001b[49m\u001b[43m \u001b[49m\u001b[43mshell\u001b[49m\u001b[43m,\u001b[49m\n\u001b[0;32m   1029\u001b[0m \u001b[43m                        \u001b[49m\u001b[43mp2cread\u001b[49m\u001b[43m,\u001b[49m\u001b[43m \u001b[49m\u001b[43mp2cwrite\u001b[49m\u001b[43m,\u001b[49m\n\u001b[0;32m   1030\u001b[0m \u001b[43m                        \u001b[49m\u001b[43mc2pread\u001b[49m\u001b[43m,\u001b[49m\u001b[43m \u001b[49m\u001b[43mc2pwrite\u001b[49m\u001b[43m,\u001b[49m\n\u001b[0;32m   1031\u001b[0m \u001b[43m                        \u001b[49m\u001b[43merrread\u001b[49m\u001b[43m,\u001b[49m\u001b[43m \u001b[49m\u001b[43merrwrite\u001b[49m\u001b[43m,\u001b[49m\n\u001b[0;32m   1032\u001b[0m \u001b[43m                        \u001b[49m\u001b[43mrestore_signals\u001b[49m\u001b[43m,\u001b[49m\n\u001b[0;32m   1033\u001b[0m \u001b[43m                        \u001b[49m\u001b[43mgid\u001b[49m\u001b[43m,\u001b[49m\u001b[43m \u001b[49m\u001b[43mgids\u001b[49m\u001b[43m,\u001b[49m\u001b[43m \u001b[49m\u001b[43muid\u001b[49m\u001b[43m,\u001b[49m\u001b[43m \u001b[49m\u001b[43mumask\u001b[49m\u001b[43m,\u001b[49m\n\u001b[0;32m   1034\u001b[0m \u001b[43m                        \u001b[49m\u001b[43mstart_new_session\u001b[49m\u001b[43m,\u001b[49m\u001b[43m \u001b[49m\u001b[43mprocess_group\u001b[49m\u001b[43m)\u001b[49m\n\u001b[0;32m   1035\u001b[0m \u001b[38;5;28;01mexcept\u001b[39;00m:\n\u001b[0;32m   1036\u001b[0m     \u001b[38;5;66;03m# Cleanup if the child failed starting.\u001b[39;00m\n\u001b[0;32m   1037\u001b[0m     \u001b[38;5;28;01mfor\u001b[39;00m f \u001b[38;5;129;01min\u001b[39;00m \u001b[38;5;28mfilter\u001b[39m(\u001b[38;5;28;01mNone\u001b[39;00m, (\u001b[38;5;28mself\u001b[39m\u001b[38;5;241m.\u001b[39mstdin, \u001b[38;5;28mself\u001b[39m\u001b[38;5;241m.\u001b[39mstdout, \u001b[38;5;28mself\u001b[39m\u001b[38;5;241m.\u001b[39mstderr)):\n",
            "File \u001b[1;32mc:\\Users\\S. R. Samim\\AppData\\Local\\Programs\\Python\\Python312\\Lib\\subprocess.py:1538\u001b[0m, in \u001b[0;36mPopen._execute_child\u001b[1;34m(self, args, executable, preexec_fn, close_fds, pass_fds, cwd, env, startupinfo, creationflags, shell, p2cread, p2cwrite, c2pread, c2pwrite, errread, errwrite, unused_restore_signals, unused_gid, unused_gids, unused_uid, unused_umask, unused_start_new_session, unused_process_group)\u001b[0m\n\u001b[0;32m   1536\u001b[0m \u001b[38;5;66;03m# Start the process\u001b[39;00m\n\u001b[0;32m   1537\u001b[0m \u001b[38;5;28;01mtry\u001b[39;00m:\n\u001b[1;32m-> 1538\u001b[0m     hp, ht, pid, tid \u001b[38;5;241m=\u001b[39m \u001b[43m_winapi\u001b[49m\u001b[38;5;241;43m.\u001b[39;49m\u001b[43mCreateProcess\u001b[49m\u001b[43m(\u001b[49m\u001b[43mexecutable\u001b[49m\u001b[43m,\u001b[49m\u001b[43m \u001b[49m\u001b[43margs\u001b[49m\u001b[43m,\u001b[49m\n\u001b[0;32m   1539\u001b[0m \u001b[43m                             \u001b[49m\u001b[38;5;66;43;03m# no special security\u001b[39;49;00m\n\u001b[0;32m   1540\u001b[0m \u001b[43m                             \u001b[49m\u001b[38;5;28;43;01mNone\u001b[39;49;00m\u001b[43m,\u001b[49m\u001b[43m \u001b[49m\u001b[38;5;28;43;01mNone\u001b[39;49;00m\u001b[43m,\u001b[49m\n\u001b[0;32m   1541\u001b[0m \u001b[43m                             \u001b[49m\u001b[38;5;28;43mint\u001b[39;49m\u001b[43m(\u001b[49m\u001b[38;5;129;43;01mnot\u001b[39;49;00m\u001b[43m \u001b[49m\u001b[43mclose_fds\u001b[49m\u001b[43m)\u001b[49m\u001b[43m,\u001b[49m\n\u001b[0;32m   1542\u001b[0m \u001b[43m                             \u001b[49m\u001b[43mcreationflags\u001b[49m\u001b[43m,\u001b[49m\n\u001b[0;32m   1543\u001b[0m \u001b[43m                             \u001b[49m\u001b[43menv\u001b[49m\u001b[43m,\u001b[49m\n\u001b[0;32m   1544\u001b[0m \u001b[43m                             \u001b[49m\u001b[43mcwd\u001b[49m\u001b[43m,\u001b[49m\n\u001b[0;32m   1545\u001b[0m \u001b[43m                             \u001b[49m\u001b[43mstartupinfo\u001b[49m\u001b[43m)\u001b[49m\n\u001b[0;32m   1546\u001b[0m \u001b[38;5;28;01mfinally\u001b[39;00m:\n\u001b[0;32m   1547\u001b[0m     \u001b[38;5;66;03m# Child is launched. Close the parent's copy of those pipe\u001b[39;00m\n\u001b[0;32m   1548\u001b[0m     \u001b[38;5;66;03m# handles that only the child should have open.  You need\u001b[39;00m\n\u001b[1;32m   (...)\u001b[0m\n\u001b[0;32m   1551\u001b[0m     \u001b[38;5;66;03m# pipe will not close when the child process exits and the\u001b[39;00m\n\u001b[0;32m   1552\u001b[0m     \u001b[38;5;66;03m# ReadFile will hang.\u001b[39;00m\n\u001b[0;32m   1553\u001b[0m     \u001b[38;5;28mself\u001b[39m\u001b[38;5;241m.\u001b[39m_close_pipe_fds(p2cread, p2cwrite,\n\u001b[0;32m   1554\u001b[0m                          c2pread, c2pwrite,\n\u001b[0;32m   1555\u001b[0m                          errread, errwrite)\n",
            "\u001b[1;31mPermissionError\u001b[0m: [WinError 5] Access is denied"
          ]
        }
      ],
      "source": [
        "!pip install ydata-profiling\n",
        "from ydata_profiling import ProfileReport"
      ]
    },
    {
      "cell_type": "code",
      "execution_count": 214,
      "metadata": {
        "id": "_xJYbAAnlFDd"
      },
      "outputs": [
        {
          "ename": "NameError",
          "evalue": "name 'ProfileReport' is not defined",
          "output_type": "error",
          "traceback": [
            "\u001b[1;31m---------------------------------------------------------------------------\u001b[0m",
            "\u001b[1;31mNameError\u001b[0m                                 Traceback (most recent call last)",
            "Cell \u001b[1;32mIn[214], line 1\u001b[0m\n\u001b[1;32m----> 1\u001b[0m \u001b[43mProfileReport\u001b[49m(df,title\u001b[38;5;241m=\u001b[39m\u001b[38;5;124m'\u001b[39m\u001b[38;5;124mreport\u001b[39m\u001b[38;5;124m'\u001b[39m)\u001b[38;5;241m.\u001b[39mto_file(\u001b[38;5;124m'\u001b[39m\u001b[38;5;124moutput.html\u001b[39m\u001b[38;5;124m'\u001b[39m)\n",
            "\u001b[1;31mNameError\u001b[0m: name 'ProfileReport' is not defined"
          ]
        }
      ],
      "source": [
        "ProfileReport(df,title='report').to_file('output.html')"
      ]
    },
    {
      "cell_type": "code",
      "execution_count": 215,
      "metadata": {
        "id": "VeNrlYhkxYzp"
      },
      "outputs": [],
      "source": [
        "df['Price_in_taka']=df['Price_in_taka'].str.replace('৳','')"
      ]
    },
    {
      "cell_type": "code",
      "execution_count": 216,
      "metadata": {
        "id": "h6Rx61p6xrg-"
      },
      "outputs": [],
      "source": [
        "df['Price_in_taka']=df['Price_in_taka'].str.replace(',','')"
      ]
    },
    {
      "cell_type": "code",
      "execution_count": 217,
      "metadata": {
        "id": "OSqraz9Nxx7M"
      },
      "outputs": [],
      "source": [
        "df['Price_in_taka']=df['Price_in_taka'].astype(float)"
      ]
    },
    {
      "cell_type": "code",
      "execution_count": 218,
      "metadata": {
        "id": "-RbysKL6xY2B"
      },
      "outputs": [
        {
          "data": {
            "text/html": [
              "<div>\n",
              "<style scoped>\n",
              "    .dataframe tbody tr th:only-of-type {\n",
              "        vertical-align: middle;\n",
              "    }\n",
              "\n",
              "    .dataframe tbody tr th {\n",
              "        vertical-align: top;\n",
              "    }\n",
              "\n",
              "    .dataframe thead th {\n",
              "        text-align: right;\n",
              "    }\n",
              "</style>\n",
              "<table border=\"1\" class=\"dataframe\">\n",
              "  <thead>\n",
              "    <tr style=\"text-align: right;\">\n",
              "      <th></th>\n",
              "      <th>Title</th>\n",
              "      <th>Bedrooms</th>\n",
              "      <th>Bathrooms</th>\n",
              "      <th>Floor_no</th>\n",
              "      <th>Occupancy_status</th>\n",
              "      <th>Floor_area</th>\n",
              "      <th>City</th>\n",
              "      <th>Price_in_taka</th>\n",
              "      <th>Location</th>\n",
              "    </tr>\n",
              "  </thead>\n",
              "  <tbody>\n",
              "    <tr>\n",
              "      <th>0</th>\n",
              "      <td>We Are Offering You A Very Spacious 1960 Sq Ft...</td>\n",
              "      <td>3.0</td>\n",
              "      <td>4.0</td>\n",
              "      <td>3</td>\n",
              "      <td>vacant</td>\n",
              "      <td>1960.0</td>\n",
              "      <td>dhaka</td>\n",
              "      <td>39000000.0</td>\n",
              "      <td>Gulshan 1, Gulshan</td>\n",
              "    </tr>\n",
              "    <tr>\n",
              "      <th>1</th>\n",
              "      <td>Valuable 1705 Square Feet Apartment Is Ready T...</td>\n",
              "      <td>3.0</td>\n",
              "      <td>3.0</td>\n",
              "      <td>1</td>\n",
              "      <td>vacant</td>\n",
              "      <td>1705.0</td>\n",
              "      <td>dhaka</td>\n",
              "      <td>16900000.0</td>\n",
              "      <td>Lake Circus Road, Kalabagan</td>\n",
              "    </tr>\n",
              "    <tr>\n",
              "      <th>2</th>\n",
              "      <td>1370 square feet apartment is ready to sale in...</td>\n",
              "      <td>3.0</td>\n",
              "      <td>3.0</td>\n",
              "      <td>6</td>\n",
              "      <td>vacant</td>\n",
              "      <td>1370.0</td>\n",
              "      <td>dhaka</td>\n",
              "      <td>12500000.0</td>\n",
              "      <td>Shukrabad, Dhanmondi</td>\n",
              "    </tr>\n",
              "    <tr>\n",
              "      <th>3</th>\n",
              "      <td>2125 Square Feet Apartment For Sale In Bashund...</td>\n",
              "      <td>3.0</td>\n",
              "      <td>3.0</td>\n",
              "      <td>4</td>\n",
              "      <td>vacant</td>\n",
              "      <td>2125.0</td>\n",
              "      <td>dhaka</td>\n",
              "      <td>20000000.0</td>\n",
              "      <td>Block L, Bashundhara R-A</td>\n",
              "    </tr>\n",
              "    <tr>\n",
              "      <th>4</th>\n",
              "      <td>Buy This 2687 Square Feet Flat In The Nice Are...</td>\n",
              "      <td>3.0</td>\n",
              "      <td>3.0</td>\n",
              "      <td>4</td>\n",
              "      <td>vacant</td>\n",
              "      <td>2687.0</td>\n",
              "      <td>dhaka</td>\n",
              "      <td>47500000.0</td>\n",
              "      <td>Road No 25, Banani</td>\n",
              "    </tr>\n",
              "  </tbody>\n",
              "</table>\n",
              "</div>"
            ],
            "text/plain": [
              "                                               Title  Bedrooms  Bathrooms  \\\n",
              "0  We Are Offering You A Very Spacious 1960 Sq Ft...       3.0        4.0   \n",
              "1  Valuable 1705 Square Feet Apartment Is Ready T...       3.0        3.0   \n",
              "2  1370 square feet apartment is ready to sale in...       3.0        3.0   \n",
              "3  2125 Square Feet Apartment For Sale In Bashund...       3.0        3.0   \n",
              "4  Buy This 2687 Square Feet Flat In The Nice Are...       3.0        3.0   \n",
              "\n",
              "  Floor_no Occupancy_status  Floor_area   City  Price_in_taka  \\\n",
              "0        3           vacant      1960.0  dhaka     39000000.0   \n",
              "1        1           vacant      1705.0  dhaka     16900000.0   \n",
              "2        6           vacant      1370.0  dhaka     12500000.0   \n",
              "3        4           vacant      2125.0  dhaka     20000000.0   \n",
              "4        4           vacant      2687.0  dhaka     47500000.0   \n",
              "\n",
              "                      Location  \n",
              "0           Gulshan 1, Gulshan  \n",
              "1  Lake Circus Road, Kalabagan  \n",
              "2         Shukrabad, Dhanmondi  \n",
              "3     Block L, Bashundhara R-A  \n",
              "4           Road No 25, Banani  "
            ]
          },
          "execution_count": 218,
          "metadata": {},
          "output_type": "execute_result"
        }
      ],
      "source": [
        "df.head()"
      ]
    },
    {
      "cell_type": "code",
      "execution_count": 219,
      "metadata": {
        "id": "NOD-ZQ2Wyfs7"
      },
      "outputs": [
        {
          "name": "stdout",
          "output_type": "stream",
          "text": [
            "Floor_no\n",
            "0+7                     1.050000e+08\n",
            "1                       1.130754e+07\n",
            "10                      2.842885e+07\n",
            "11                      2.332713e+07\n",
            "12                      2.068089e+07\n",
            "13                      1.072762e+07\n",
            "14                      1.606250e+07\n",
            "17                      8.822000e+06\n",
            "18                      2.993200e+07\n",
            "1F                      6.500000e+06\n",
            "1st                     2.900000e+07\n",
            "2                       1.051656e+07\n",
            "3                       1.229689e+07\n",
            "4                       1.230923e+07\n",
            "4th to 8th Backside     3.800000e+06\n",
            "5                       1.018031e+07\n",
            "5th                     5.000000e+06\n",
            "6                       1.091768e+07\n",
            "7                       1.192081e+07\n",
            "8                       1.043100e+07\n",
            "8th                     4.700000e+06\n",
            "9                       1.283691e+07\n",
            "A1,A2,A3,A4,A5,A6,A7    1.050000e+08\n",
            "G+7                     7.500000e+07\n",
            "Merin City - Purbach    4.575000e+06\n",
            "Name: Price_in_taka, dtype: float64\n"
          ]
        }
      ],
      "source": [
        "# Group by 'Floor_no' and calculate the mean of 'Price_in_taka'\n",
        "grouped2 = df.groupby('Floor_no')['Price_in_taka'].mean()\n",
        "\n",
        "# Print the result\n",
        "print(grouped2)"
      ]
    },
    {
      "cell_type": "code",
      "execution_count": 220,
      "metadata": {
        "id": "iGmVSMGDlaYo"
      },
      "outputs": [
        {
          "name": "stdout",
          "output_type": "stream",
          "text": [
            "Bedrooms\n",
            "1.0      1.000000\n",
            "2.0      1.982759\n",
            "3.0      2.964856\n",
            "4.0      4.113636\n",
            "5.0      4.800000\n",
            "6.0      5.333333\n",
            "7.0      8.000000\n",
            "8.0      4.500000\n",
            "13.0    10.000000\n",
            "15.0    10.000000\n",
            "16.0    10.000000\n",
            "18.0    10.000000\n",
            "20.0    10.000000\n",
            "21.0    10.000000\n",
            "22.0    10.000000\n",
            "23.0    10.000000\n",
            "27.0    10.000000\n",
            "33.0    10.000000\n",
            "46.0    10.000000\n",
            "50.0    10.000000\n",
            "Name: Bathrooms, dtype: float64\n"
          ]
        }
      ],
      "source": [
        "grouped = df.groupby('Bedrooms')['Bathrooms'].mean()\n",
        "print(grouped)\n"
      ]
    },
    {
      "cell_type": "code",
      "execution_count": null,
      "metadata": {
        "id": "5KYJ_0pIuA6z"
      },
      "outputs": [],
      "source": []
    },
    {
      "cell_type": "code",
      "execution_count": 221,
      "metadata": {
        "id": "TWuytqRZntUL"
      },
      "outputs": [
        {
          "data": {
            "image/png": "[encoded data removed]",
            "text/plain": [
              "<Figure size 640x480 with 1 Axes>"
            ]
          },
          "metadata": {},
          "output_type": "display_data"
        }
      ],
      "source": [
        "import matplotlib.pyplot as plt\n",
        "\n",
        "plt.scatter(df['Bedrooms'], df['Bathrooms'])\n",
        "plt.title('Relationship between Bedrooms and Bathrooms')\n",
        "plt.xlabel('Number of Bedrooms')\n",
        "plt.ylabel('Number of Bathrooms')\n",
        "plt.show()\n"
      ]
    },
    {
      "cell_type": "code",
      "execution_count": 222,
      "metadata": {
        "id": "E8a6vdImploN"
      },
      "outputs": [
        {
          "data": {
            "text/plain": [
              "Title                  0\n",
              "Bedrooms            1001\n",
              "Bathrooms           1001\n",
              "Floor_no             684\n",
              "Occupancy_status      99\n",
              "Floor_area            99\n",
              "City                   0\n",
              "Price_in_taka          0\n",
              "Location               6\n",
              "dtype: int64"
            ]
          },
          "execution_count": 222,
          "metadata": {},
          "output_type": "execute_result"
        }
      ],
      "source": [
        "df.isnull().sum()"
      ]
    },
    {
      "cell_type": "code",
      "execution_count": 223,
      "metadata": {
        "id": "pEVgZ5B4qwR9"
      },
      "outputs": [],
      "source": [
        "# Fill missing 'Bedrooms' using the group mean of 'Bathrooms'\n",
        "df['Bedrooms'] = df['Bedrooms'].fillna(df.groupby('Bathrooms')['Bedrooms'].transform('mean'))\n",
        "\n",
        "# Fill remaining 'Bedrooms' with the overall mean or median if still null\n",
        "df['Bedrooms'] = df['Bedrooms'].fillna(df['Bedrooms'].mean())  # or use median: df['Bedrooms'].median()\n",
        "\n",
        "# Fill missing 'Bathrooms' using the group mean of 'Bedrooms'\n",
        "df['Bathrooms'] = df['Bathrooms'].fillna(df.groupby('Bedrooms')['Bathrooms'].transform('mean'))\n",
        "\n",
        "# Fill remaining 'Bathrooms' with the overall mean or median if still null\n",
        "df['Bathrooms'] = df['Bathrooms'].fillna(df['Bathrooms'].mean())  # or use median: df['Bathrooms'].median()\n"
      ]
    },
    {
      "cell_type": "code",
      "execution_count": 224,
      "metadata": {
        "id": "TiDa286apnwd"
      },
      "outputs": [
        {
          "data": {
            "text/plain": [
              "Title                 0\n",
              "Bedrooms              0\n",
              "Bathrooms             0\n",
              "Floor_no            684\n",
              "Occupancy_status     99\n",
              "Floor_area           99\n",
              "City                  0\n",
              "Price_in_taka         0\n",
              "Location              6\n",
              "dtype: int64"
            ]
          },
          "execution_count": 224,
          "metadata": {},
          "output_type": "execute_result"
        }
      ],
      "source": [
        "df.isnull().sum()"
      ]
    },
    {
      "cell_type": "code",
      "execution_count": 225,
      "metadata": {
        "id": "FoJVkOd6qz53"
      },
      "outputs": [
        {
          "data": {
            "text/plain": [
              "Floor_no\n",
              "1                       532\n",
              "4                       418\n",
              "5                       402\n",
              "2                       397\n",
              "3                       366\n",
              "6                       316\n",
              "7                       252\n",
              "8                       228\n",
              "9                       167\n",
              "10                       30\n",
              "11                       26\n",
              "12                       19\n",
              "13                        8\n",
              "Merin City - Purbach      6\n",
              "8th                       2\n",
              "4th to 8th Backside       2\n",
              "14                        2\n",
              "1st                       1\n",
              "G+7                       1\n",
              "0+7                       1\n",
              "A1,A2,A3,A4,A5,A6,A7      1\n",
              "1F                        1\n",
              "18                        1\n",
              "5th                       1\n",
              "17                        1\n",
              "Name: count, dtype: int64"
            ]
          },
          "execution_count": 225,
          "metadata": {},
          "output_type": "execute_result"
        }
      ],
      "source": [
        "df['Floor_no'].value_counts()"
      ]
    },
    {
      "cell_type": "code",
      "execution_count": 226,
      "metadata": {
        "id": "EmFHAVtewbp0"
      },
      "outputs": [],
      "source": [
        "# Define a list of unwanted Floor_no values\n",
        "unwanted_floor_no = [\n",
        "    '4th to 8th Backside',\n",
        "    'Merin City - Purbach',\n",
        "    'A1,A2,A3,A4,A5,A6,A7',\n",
        "    '1st',\n",
        "    '0+7',\n",
        "    '5th',\n",
        "    '8th',\n",
        "    '1F',\n",
        "    'G+7',\n",
        "    '17'\n",
        "]\n",
        "\n",
        "# Use isin to filter out these values and drop the corresponding rows\n",
        "df = df[~df['Floor_no'].isin(unwanted_floor_no)]\n"
      ]
    },
    {
      "cell_type": "code",
      "execution_count": 227,
      "metadata": {
        "id": "Ux_4kEp-3V4i"
      },
      "outputs": [
        {
          "data": {
            "text/plain": [
              "Title                 0\n",
              "Bedrooms              0\n",
              "Bathrooms             0\n",
              "Floor_no            684\n",
              "Occupancy_status     99\n",
              "Floor_area           99\n",
              "City                  0\n",
              "Price_in_taka         0\n",
              "Location              6\n",
              "dtype: int64"
            ]
          },
          "execution_count": 227,
          "metadata": {},
          "output_type": "execute_result"
        }
      ],
      "source": [
        "df.isnull().sum()"
      ]
    },
    {
      "cell_type": "code",
      "execution_count": 228,
      "metadata": {},
      "outputs": [
        {
          "data": {
            "text/plain": [
              "<bound method Series.dropna of 0                     Gulshan 1, Gulshan\n",
              "1            Lake Circus Road, Kalabagan\n",
              "2                   Shukrabad, Dhanmondi\n",
              "3               Block L, Bashundhara R-A\n",
              "4                     Road No 25, Banani\n",
              "                      ...               \n",
              "3860    Joydebpur, Gazipur Sadar Upazila\n",
              "3861     Chandana, Gazipur Sadar Upazila\n",
              "3862    Joydebpur, Gazipur Sadar Upazila\n",
              "3863    Joydebpur, Gazipur Sadar Upazila\n",
              "3864    Joydebpur, Gazipur Sadar Upazila\n",
              "Name: Location, Length: 3848, dtype: object>"
            ]
          },
          "execution_count": 228,
          "metadata": {},
          "output_type": "execute_result"
        }
      ],
      "source": [
        "df['Location'].dropna"
      ]
    },
    {
      "cell_type": "code",
      "execution_count": 229,
      "metadata": {
        "id": "IdcKX9en5Yc5"
      },
      "outputs": [
        {
          "name": "stderr",
          "output_type": "stream",
          "text": [
            "C:\\Windows\\Temp\\ipykernel_5220\\3570340368.py:20: SettingWithCopyWarning: \n",
            "A value is trying to be set on a copy of a slice from a DataFrame.\n",
            "Try using .loc[row_indexer,col_indexer] = value instead\n",
            "\n",
            "See the caveats in the documentation: https://pandas.pydata.org/pandas-docs/stable/user_guide/indexing.html#returning-a-view-versus-a-copy\n",
            "  df_null['Floor_no'] = model.predict(df_null[['Bedrooms']])\n"
          ]
        }
      ],
      "source": [
        "import pandas as pd\n",
        "from sklearn.linear_model import LinearRegression\n",
        "\n",
        "# Create a copy of your DataFrame to avoid modifying the original one\n",
        "df_copy = df.copy()\n",
        "\n",
        "# Separate the rows where 'Floor_no' is null and not null\n",
        "df_not_null = df_copy[df_copy['Floor_no'].notnull()]\n",
        "df_null = df_copy[df_copy['Floor_no'].isnull()]\n",
        "\n",
        "# Independent variable (X) is 'Bedrooms', and dependent variable (y) is 'Floor_no'\n",
        "X_train = df_not_null[['Bedrooms']]\n",
        "y_train = df_not_null['Floor_no']\n",
        "\n",
        "# Initialize the linear regression model and fit it on the non-null data\n",
        "model = LinearRegression()\n",
        "model.fit(X_train, y_train)\n",
        "\n",
        "# Predict the missing values for 'Floor_no' based on 'Bedrooms'\n",
        "df_null['Floor_no'] = model.predict(df_null[['Bedrooms']])\n",
        "\n",
        "# Fill the missing values in the original dataframe\n",
        "df_copy.loc[df_copy['Floor_no'].isnull(), 'Floor_no'] = df_null['Floor_no']\n",
        "\n",
        "# Now df_copy contains the filled values for 'Floor_no'\n"
      ]
    },
    {
      "cell_type": "code",
      "execution_count": 230,
      "metadata": {
        "id": "5dk6wWaMPFJp"
      },
      "outputs": [
        {
          "data": {
            "text/plain": [
              "Title                0\n",
              "Bedrooms             0\n",
              "Bathrooms            0\n",
              "Floor_no             0\n",
              "Occupancy_status    99\n",
              "Floor_area          99\n",
              "City                 0\n",
              "Price_in_taka        0\n",
              "Location             6\n",
              "dtype: int64"
            ]
          },
          "execution_count": 230,
          "metadata": {},
          "output_type": "execute_result"
        }
      ],
      "source": [
        "df_copy.isnull().sum()"
      ]
    },
    {
      "cell_type": "code",
      "execution_count": 231,
      "metadata": {
        "id": "NI-aKfUsPuXd"
      },
      "outputs": [
        {
          "data": {
            "text/plain": [
              "Title                0\n",
              "Bedrooms             0\n",
              "Bathrooms            0\n",
              "Floor_no             0\n",
              "Occupancy_status    99\n",
              "Floor_area          99\n",
              "City                 0\n",
              "Price_in_taka        0\n",
              "Location             6\n",
              "dtype: int64"
            ]
          },
          "execution_count": 231,
          "metadata": {},
          "output_type": "execute_result"
        }
      ],
      "source": [
        "df_copy.isnull().sum()"
      ]
    },
    {
      "cell_type": "code",
      "execution_count": 232,
      "metadata": {
        "id": "JkPAyAlZQ3Bm"
      },
      "outputs": [],
      "source": [
        "import pandas as pd\n",
        "from sklearn.linear_model import LinearRegression\n",
        "\n",
        "# Step 1: Separate the rows where 'Floor_area' is null and not null in df_copy\n",
        "non_null = df_copy[df_copy['Floor_area'].notnull()]\n",
        "null_rows = df_copy[df_copy['Floor_area'].isnull()]\n",
        "\n",
        "# Step 2: Independent variable (X) is 'Bedrooms', and dependent variable (y) is 'Floor_area'\n",
        "X = non_null[['Bedrooms']]\n",
        "y = non_null['Floor_area']\n",
        "\n",
        "# Step 3: Initialize the linear regression model and fit it on the non-null data from df_copy\n",
        "model = LinearRegression()\n",
        "model.fit(X, y)\n",
        "\n",
        "# Step 4: Predict the missing values for 'Floor_area' in df_copy based on 'Bedrooms'\n",
        "predicted_values = model.predict(null_rows[['Bedrooms']])\n",
        "\n",
        "# Step 5: Fill the missing values in a new DataFrame 'new_df'\n",
        "new_df = df_copy.copy()\n",
        "new_df.loc[new_df['Floor_area'].isnull(), 'Floor_area'] = predicted_values\n",
        "\n",
        "# Now 'new_df' contains the filled values for 'Floor_area'\n"
      ]
    },
    {
      "cell_type": "code",
      "execution_count": 233,
      "metadata": {
        "id": "LPyve5hERMv8"
      },
      "outputs": [
        {
          "data": {
            "text/plain": [
              "Title                0\n",
              "Bedrooms             0\n",
              "Bathrooms            0\n",
              "Floor_no             0\n",
              "Occupancy_status    99\n",
              "Floor_area           0\n",
              "City                 0\n",
              "Price_in_taka        0\n",
              "Location             6\n",
              "dtype: int64"
            ]
          },
          "execution_count": 233,
          "metadata": {},
          "output_type": "execute_result"
        }
      ],
      "source": [
        "new_df.isnull().sum()"
      ]
    },
    {
      "cell_type": "code",
      "execution_count": 234,
      "metadata": {
        "id": "JaEayCPLRWcn"
      },
      "outputs": [],
      "source": [
        "new_df=new_df.drop(['Title','Occupancy_status'],axis=1)"
      ]
    },
    {
      "cell_type": "code",
      "execution_count": 235,
      "metadata": {
        "id": "Y3Yp2fUjU8Te"
      },
      "outputs": [
        {
          "data": {
            "text/html": [
              "<div>\n",
              "<style scoped>\n",
              "    .dataframe tbody tr th:only-of-type {\n",
              "        vertical-align: middle;\n",
              "    }\n",
              "\n",
              "    .dataframe tbody tr th {\n",
              "        vertical-align: top;\n",
              "    }\n",
              "\n",
              "    .dataframe thead th {\n",
              "        text-align: right;\n",
              "    }\n",
              "</style>\n",
              "<table border=\"1\" class=\"dataframe\">\n",
              "  <thead>\n",
              "    <tr style=\"text-align: right;\">\n",
              "      <th></th>\n",
              "      <th>Bedrooms</th>\n",
              "      <th>Bathrooms</th>\n",
              "      <th>Floor_no</th>\n",
              "      <th>Floor_area</th>\n",
              "      <th>City</th>\n",
              "      <th>Price_in_taka</th>\n",
              "      <th>Location</th>\n",
              "    </tr>\n",
              "  </thead>\n",
              "  <tbody>\n",
              "    <tr>\n",
              "      <th>0</th>\n",
              "      <td>3.0</td>\n",
              "      <td>4.0</td>\n",
              "      <td>3</td>\n",
              "      <td>1960.0</td>\n",
              "      <td>dhaka</td>\n",
              "      <td>39000000.0</td>\n",
              "      <td>Gulshan 1, Gulshan</td>\n",
              "    </tr>\n",
              "    <tr>\n",
              "      <th>1</th>\n",
              "      <td>3.0</td>\n",
              "      <td>3.0</td>\n",
              "      <td>1</td>\n",
              "      <td>1705.0</td>\n",
              "      <td>dhaka</td>\n",
              "      <td>16900000.0</td>\n",
              "      <td>Lake Circus Road, Kalabagan</td>\n",
              "    </tr>\n",
              "    <tr>\n",
              "      <th>2</th>\n",
              "      <td>3.0</td>\n",
              "      <td>3.0</td>\n",
              "      <td>6</td>\n",
              "      <td>1370.0</td>\n",
              "      <td>dhaka</td>\n",
              "      <td>12500000.0</td>\n",
              "      <td>Shukrabad, Dhanmondi</td>\n",
              "    </tr>\n",
              "    <tr>\n",
              "      <th>3</th>\n",
              "      <td>3.0</td>\n",
              "      <td>3.0</td>\n",
              "      <td>4</td>\n",
              "      <td>2125.0</td>\n",
              "      <td>dhaka</td>\n",
              "      <td>20000000.0</td>\n",
              "      <td>Block L, Bashundhara R-A</td>\n",
              "    </tr>\n",
              "    <tr>\n",
              "      <th>4</th>\n",
              "      <td>3.0</td>\n",
              "      <td>3.0</td>\n",
              "      <td>4</td>\n",
              "      <td>2687.0</td>\n",
              "      <td>dhaka</td>\n",
              "      <td>47500000.0</td>\n",
              "      <td>Road No 25, Banani</td>\n",
              "    </tr>\n",
              "  </tbody>\n",
              "</table>\n",
              "</div>"
            ],
            "text/plain": [
              "   Bedrooms  Bathrooms Floor_no  Floor_area   City  Price_in_taka  \\\n",
              "0       3.0        4.0        3      1960.0  dhaka     39000000.0   \n",
              "1       3.0        3.0        1      1705.0  dhaka     16900000.0   \n",
              "2       3.0        3.0        6      1370.0  dhaka     12500000.0   \n",
              "3       3.0        3.0        4      2125.0  dhaka     20000000.0   \n",
              "4       3.0        3.0        4      2687.0  dhaka     47500000.0   \n",
              "\n",
              "                      Location  \n",
              "0           Gulshan 1, Gulshan  \n",
              "1  Lake Circus Road, Kalabagan  \n",
              "2         Shukrabad, Dhanmondi  \n",
              "3     Block L, Bashundhara R-A  \n",
              "4           Road No 25, Banani  "
            ]
          },
          "execution_count": 235,
          "metadata": {},
          "output_type": "execute_result"
        }
      ],
      "source": [
        "new_df.head()"
      ]
    },
    {
      "cell_type": "code",
      "execution_count": 236,
      "metadata": {
        "id": "UQ_zF7KMU_vB"
      },
      "outputs": [],
      "source": [
        "# Extract the part of 'Location' after the last comma\n",
        "new_df['Location'] = new_df['Location'].str.rsplit(',', n=1).str.get(-1).str.strip()\n",
        "\n",
        "# Now 'new_df['Location']' contains only the part after the last comma\n"
      ]
    },
    {
      "cell_type": "code",
      "execution_count": 237,
      "metadata": {
        "id": "waK49hvxVyZW"
      },
      "outputs": [
        {
          "data": {
            "text/html": [
              "<div>\n",
              "<style scoped>\n",
              "    .dataframe tbody tr th:only-of-type {\n",
              "        vertical-align: middle;\n",
              "    }\n",
              "\n",
              "    .dataframe tbody tr th {\n",
              "        vertical-align: top;\n",
              "    }\n",
              "\n",
              "    .dataframe thead th {\n",
              "        text-align: right;\n",
              "    }\n",
              "</style>\n",
              "<table border=\"1\" class=\"dataframe\">\n",
              "  <thead>\n",
              "    <tr style=\"text-align: right;\">\n",
              "      <th></th>\n",
              "      <th>Bedrooms</th>\n",
              "      <th>Bathrooms</th>\n",
              "      <th>Floor_no</th>\n",
              "      <th>Floor_area</th>\n",
              "      <th>City</th>\n",
              "      <th>Price_in_taka</th>\n",
              "      <th>Location</th>\n",
              "    </tr>\n",
              "  </thead>\n",
              "  <tbody>\n",
              "    <tr>\n",
              "      <th>0</th>\n",
              "      <td>3.0</td>\n",
              "      <td>4.0</td>\n",
              "      <td>3</td>\n",
              "      <td>1960.0</td>\n",
              "      <td>dhaka</td>\n",
              "      <td>39000000.0</td>\n",
              "      <td>Gulshan</td>\n",
              "    </tr>\n",
              "    <tr>\n",
              "      <th>1</th>\n",
              "      <td>3.0</td>\n",
              "      <td>3.0</td>\n",
              "      <td>1</td>\n",
              "      <td>1705.0</td>\n",
              "      <td>dhaka</td>\n",
              "      <td>16900000.0</td>\n",
              "      <td>Kalabagan</td>\n",
              "    </tr>\n",
              "    <tr>\n",
              "      <th>2</th>\n",
              "      <td>3.0</td>\n",
              "      <td>3.0</td>\n",
              "      <td>6</td>\n",
              "      <td>1370.0</td>\n",
              "      <td>dhaka</td>\n",
              "      <td>12500000.0</td>\n",
              "      <td>Dhanmondi</td>\n",
              "    </tr>\n",
              "    <tr>\n",
              "      <th>3</th>\n",
              "      <td>3.0</td>\n",
              "      <td>3.0</td>\n",
              "      <td>4</td>\n",
              "      <td>2125.0</td>\n",
              "      <td>dhaka</td>\n",
              "      <td>20000000.0</td>\n",
              "      <td>Bashundhara R-A</td>\n",
              "    </tr>\n",
              "    <tr>\n",
              "      <th>4</th>\n",
              "      <td>3.0</td>\n",
              "      <td>3.0</td>\n",
              "      <td>4</td>\n",
              "      <td>2687.0</td>\n",
              "      <td>dhaka</td>\n",
              "      <td>47500000.0</td>\n",
              "      <td>Banani</td>\n",
              "    </tr>\n",
              "  </tbody>\n",
              "</table>\n",
              "</div>"
            ],
            "text/plain": [
              "   Bedrooms  Bathrooms Floor_no  Floor_area   City  Price_in_taka  \\\n",
              "0       3.0        4.0        3      1960.0  dhaka     39000000.0   \n",
              "1       3.0        3.0        1      1705.0  dhaka     16900000.0   \n",
              "2       3.0        3.0        6      1370.0  dhaka     12500000.0   \n",
              "3       3.0        3.0        4      2125.0  dhaka     20000000.0   \n",
              "4       3.0        3.0        4      2687.0  dhaka     47500000.0   \n",
              "\n",
              "          Location  \n",
              "0          Gulshan  \n",
              "1        Kalabagan  \n",
              "2        Dhanmondi  \n",
              "3  Bashundhara R-A  \n",
              "4           Banani  "
            ]
          },
          "execution_count": 237,
          "metadata": {},
          "output_type": "execute_result"
        }
      ],
      "source": [
        "new_df.head()"
      ]
    },
    {
      "cell_type": "code",
      "execution_count": 238,
      "metadata": {
        "id": "gDvgjLUDV0d1"
      },
      "outputs": [
        {
          "data": {
            "text/plain": [
              "array(['Gulshan', 'Kalabagan', 'Dhanmondi', 'Bashundhara R-A', 'Banani',\n",
              "       'Badda', 'Demra', 'Aftab Nagar', 'Shyampur', 'Uttara',\n",
              "       'Kathalbagan', 'Adabor', 'Mirpur', 'Mohammadpur', 'Niketan',\n",
              "       'Shantinagar', 'Sutrapur', 'Dakshin Khan', 'Agargaon',\n",
              "       'Keraniganj', 'Rampura', 'Ibrahimpur', 'Mohakhali', 'Lalmatia',\n",
              "       'Khilgaon', 'Tejgaon', 'Maghbazar', 'Banasree', 'Savar',\n",
              "       'Malibagh', 'Cantonment', 'Shiddheswari', 'Motijheel', 'Bashabo',\n",
              "       'Banani DOHS', 'Hazaribag', 'Eskaton', 'Hatirpool', 'Nikunja',\n",
              "       'Dumni', nan, 'Kafrul', 'Joar Sahara', 'Nadda', 'Khilkhet',\n",
              "       'North Shahjahanpur', 'Shyamoli', 'Turag', 'Baridhara',\n",
              "       'Purbachal', 'Mugdapara', 'Shegunbagicha', 'Kachukhet', 'Kuril',\n",
              "       'Uttar Khan', 'Banglamotors', 'Lalbagh', 'Bangshal',\n",
              "       'Shahjahanpur', 'Baridhara DOHS', '4 No Chandgaon Ward',\n",
              "       '15 No. Bagmoniram Ward', '7 No. West Sholoshohor Ward',\n",
              "       '9 No. North Pahartali Ward', 'Muradpur', 'Bayazid', 'Khulshi',\n",
              "       'Jamal Khan', 'Double Mooring', 'Bakalia', 'Halishahar', 'Kotwali',\n",
              "       'Sholokbahar', 'East Nasirabad', 'Jalalabad Housing Society',\n",
              "       '33 No. Firingee Bazaar Ward', '10 No. North Kattali Ward',\n",
              "       '11 No. South Kattali Ward', '22 No. Enayet Bazaar Ward',\n",
              "       '16 No. Chawk Bazaar Ward', 'Panchlaish',\n",
              "       '30 No. East Madarbari Ward', '32 No. Andarkilla Ward',\n",
              "       'Lal Khan Bazaar', 'Railway Colony', 'Kazir Dewri', 'Hathazari',\n",
              "       'South Khulsi', '31 No. Alkoron Ward',\n",
              "       '29 No. West Madarbari Ward', 'Patenga', '36 Goshail Danga Ward',\n",
              "       'Kandirpar', 'Bagichagaon', 'Chotora', 'Jhautola', 'Thakur Para',\n",
              "       'Moghultoli', 'Ashoktala', 'Race Course', 'Monohorpur',\n",
              "       'Narayanganj', 'Shiddhirganj', 'Fatulla', 'Gazipur Sadar Upazila',\n",
              "       'Kaliakair', 'Kapasia', 'Sreepur', 'Chandra'], dtype=object)"
            ]
          },
          "execution_count": 238,
          "metadata": {},
          "output_type": "execute_result"
        }
      ],
      "source": [
        "new_df['Location'].unique()"
      ]
    },
    {
      "cell_type": "code",
      "execution_count": 239,
      "metadata": {},
      "outputs": [
        {
          "name": "stdout",
          "output_type": "stream",
          "text": [
            "Data after target encoding:\n",
            "0       8.137458e+07\n",
            "1       1.409571e+07\n",
            "2       1.990445e+07\n",
            "3       2.183746e+07\n",
            "4       1.856280e+07\n",
            "            ...     \n",
            "3860    8.985729e+06\n",
            "3861    8.985729e+06\n",
            "3862    8.985729e+06\n",
            "3863    8.985729e+06\n",
            "3864    8.985729e+06\n",
            "Name: Location, Length: 3848, dtype: float64\n"
          ]
        }
      ],
      "source": [
        "import pandas as pd\n",
        "import category_encoders as ce\n",
        "import pickle\n",
        "\n",
        "\n",
        "# Initialize the TargetEncoder\n",
        "target_encoder = ce.TargetEncoder(cols=['Location'])\n",
        "\n",
        "# Fit the encoder based on 'Location' and 'Price_in_tk'\n",
        "target_encoder.fit(new_df['Location'], new_df['Price_in_taka'])\n",
        "\n",
        "# Apply the encoding on the 'Location' column\n",
        "new_df['Location'] = target_encoder.transform(new_df['Location'])\n",
        "\n",
        "# Check the output\n",
        "print(\"Data after target encoding:\")\n",
        "print(new_df['Location'])\n"
      ]
    },
    {
      "cell_type": "code",
      "execution_count": 240,
      "metadata": {},
      "outputs": [],
      "source": [
        "# Save the encoder to a pickle file\n",
        "with open('target_encoder.pkl', 'wb') as file:\n",
        "    pickle.dump(target_encoder, file)\n"
      ]
    },
    {
      "cell_type": "code",
      "execution_count": 259,
      "metadata": {},
      "outputs": [
        {
          "ename": "ValueError",
          "evalue": "Unexpected input type: <class 'str'>",
          "output_type": "error",
          "traceback": [
            "\u001b[1;31m---------------------------------------------------------------------------\u001b[0m",
            "\u001b[1;31mValueError\u001b[0m                                Traceback (most recent call last)",
            "Cell \u001b[1;32mIn[259], line 18\u001b[0m\n\u001b[0;32m     16\u001b[0m \u001b[38;5;66;03m# Apply the saved target encoder to the new data\u001b[39;00m\n\u001b[0;32m     17\u001b[0m new_data[\u001b[38;5;124m'\u001b[39m\u001b[38;5;124mLocation_encoded\u001b[39m\u001b[38;5;124m'\u001b[39m] \u001b[38;5;241m=\u001b[39m target_encoder\u001b[38;5;241m.\u001b[39mtransform(new_data[\u001b[38;5;124m'\u001b[39m\u001b[38;5;124mLocation\u001b[39m\u001b[38;5;124m'\u001b[39m])\n\u001b[1;32m---> 18\u001b[0m new_d\u001b[38;5;241m=\u001b[39m\u001b[43mtarget_encoder\u001b[49m\u001b[38;5;241;43m.\u001b[39;49m\u001b[43mtransform\u001b[49m\u001b[43m(\u001b[49m\u001b[38;5;124;43m\"\u001b[39;49m\u001b[38;5;124;43mGulshan\u001b[39;49m\u001b[38;5;124;43m\"\u001b[39;49m\u001b[43m)\u001b[49m\n\u001b[0;32m     20\u001b[0m \u001b[38;5;66;03m# Check the transformed data\u001b[39;00m\n\u001b[0;32m     21\u001b[0m \u001b[38;5;28mprint\u001b[39m(\u001b[38;5;124m\"\u001b[39m\u001b[38;5;124mNew data after target encoding:\u001b[39m\u001b[38;5;124m\"\u001b[39m)\n",
            "File \u001b[1;32mc:\\Users\\S. R. Samim\\AppData\\Local\\Programs\\Python\\Python312\\Lib\\site-packages\\sklearn\\utils\\_set_output.py:316\u001b[0m, in \u001b[0;36m_wrap_method_output.<locals>.wrapped\u001b[1;34m(self, X, *args, **kwargs)\u001b[0m\n\u001b[0;32m    314\u001b[0m \u001b[38;5;129m@wraps\u001b[39m(f)\n\u001b[0;32m    315\u001b[0m \u001b[38;5;28;01mdef\u001b[39;00m \u001b[38;5;21mwrapped\u001b[39m(\u001b[38;5;28mself\u001b[39m, X, \u001b[38;5;241m*\u001b[39margs, \u001b[38;5;241m*\u001b[39m\u001b[38;5;241m*\u001b[39mkwargs):\n\u001b[1;32m--> 316\u001b[0m     data_to_wrap \u001b[38;5;241m=\u001b[39m \u001b[43mf\u001b[49m\u001b[43m(\u001b[49m\u001b[38;5;28;43mself\u001b[39;49m\u001b[43m,\u001b[49m\u001b[43m \u001b[49m\u001b[43mX\u001b[49m\u001b[43m,\u001b[49m\u001b[43m \u001b[49m\u001b[38;5;241;43m*\u001b[39;49m\u001b[43margs\u001b[49m\u001b[43m,\u001b[49m\u001b[43m \u001b[49m\u001b[38;5;241;43m*\u001b[39;49m\u001b[38;5;241;43m*\u001b[39;49m\u001b[43mkwargs\u001b[49m\u001b[43m)\u001b[49m\n\u001b[0;32m    317\u001b[0m     \u001b[38;5;28;01mif\u001b[39;00m \u001b[38;5;28misinstance\u001b[39m(data_to_wrap, \u001b[38;5;28mtuple\u001b[39m):\n\u001b[0;32m    318\u001b[0m         \u001b[38;5;66;03m# only wrap the first output for cross decomposition\u001b[39;00m\n\u001b[0;32m    319\u001b[0m         return_tuple \u001b[38;5;241m=\u001b[39m (\n\u001b[0;32m    320\u001b[0m             _wrap_data_with_container(method, data_to_wrap[\u001b[38;5;241m0\u001b[39m], X, \u001b[38;5;28mself\u001b[39m),\n\u001b[0;32m    321\u001b[0m             \u001b[38;5;241m*\u001b[39mdata_to_wrap[\u001b[38;5;241m1\u001b[39m:],\n\u001b[0;32m    322\u001b[0m         )\n",
            "File \u001b[1;32mc:\\Users\\S. R. Samim\\AppData\\Local\\Programs\\Python\\Python312\\Lib\\site-packages\\category_encoders\\utils.py:449\u001b[0m, in \u001b[0;36mSupervisedTransformerMixin.transform\u001b[1;34m(self, X, y, override_return_df)\u001b[0m\n\u001b[0;32m    427\u001b[0m \u001b[38;5;250m\u001b[39m\u001b[38;5;124;03m\"\"\"Perform the transformation to new categorical data.\u001b[39;00m\n\u001b[0;32m    428\u001b[0m \n\u001b[0;32m    429\u001b[0m \u001b[38;5;124;03mSome encoders behave differently on whether y is given or not. This is mainly due to regularisation\u001b[39;00m\n\u001b[1;32m   (...)\u001b[0m\n\u001b[0;32m    446\u001b[0m \n\u001b[0;32m    447\u001b[0m \u001b[38;5;124;03m\"\"\"\u001b[39;00m\n\u001b[0;32m    448\u001b[0m \u001b[38;5;66;03m# first check the type\u001b[39;00m\n\u001b[1;32m--> 449\u001b[0m X, y \u001b[38;5;241m=\u001b[39m \u001b[43mconvert_inputs\u001b[49m\u001b[43m(\u001b[49m\u001b[43mX\u001b[49m\u001b[43m,\u001b[49m\u001b[43m \u001b[49m\u001b[43my\u001b[49m\u001b[43m,\u001b[49m\u001b[43m \u001b[49m\u001b[43mdeep\u001b[49m\u001b[38;5;241;43m=\u001b[39;49m\u001b[38;5;28;43;01mTrue\u001b[39;49;00m\u001b[43m)\u001b[49m\n\u001b[0;32m    450\u001b[0m \u001b[38;5;28mself\u001b[39m\u001b[38;5;241m.\u001b[39m_check_transform_inputs(X)\n\u001b[0;32m    451\u001b[0m \u001b[38;5;28;01mif\u001b[39;00m y \u001b[38;5;129;01mis\u001b[39;00m \u001b[38;5;129;01mnot\u001b[39;00m \u001b[38;5;28;01mNone\u001b[39;00m \u001b[38;5;129;01mand\u001b[39;00m \u001b[38;5;28mself\u001b[39m\u001b[38;5;241m.\u001b[39mlab_encoder_ \u001b[38;5;129;01mis\u001b[39;00m \u001b[38;5;129;01mnot\u001b[39;00m \u001b[38;5;28;01mNone\u001b[39;00m:\n",
            "File \u001b[1;32mc:\\Users\\S. R. Samim\\AppData\\Local\\Programs\\Python\\Python312\\Lib\\site-packages\\category_encoders\\utils.py:81\u001b[0m, in \u001b[0;36mconvert_inputs\u001b[1;34m(X, y, columns, index, deep)\u001b[0m\n\u001b[0;32m     58\u001b[0m \u001b[38;5;250m\u001b[39m\u001b[38;5;124;03m\"\"\"\u001b[39;00m\n\u001b[0;32m     59\u001b[0m \u001b[38;5;124;03mUnite arraylike `X` and vectorlike `y` into a DataFrame and Series.\u001b[39;00m\n\u001b[0;32m     60\u001b[0m \n\u001b[1;32m   (...)\u001b[0m\n\u001b[0;32m     78\u001b[0m \u001b[38;5;124;03m    Whether to deep-copy `X`.\u001b[39;00m\n\u001b[0;32m     79\u001b[0m \u001b[38;5;124;03m\"\"\"\u001b[39;00m\n\u001b[0;32m     80\u001b[0m X_alt_index \u001b[38;5;241m=\u001b[39m y\u001b[38;5;241m.\u001b[39mindex \u001b[38;5;28;01mif\u001b[39;00m \u001b[38;5;28misinstance\u001b[39m(y, pd\u001b[38;5;241m.\u001b[39mSeries) \u001b[38;5;28;01melse\u001b[39;00m index\n\u001b[1;32m---> 81\u001b[0m X \u001b[38;5;241m=\u001b[39m \u001b[43mconvert_input\u001b[49m\u001b[43m(\u001b[49m\u001b[43mX\u001b[49m\u001b[43m,\u001b[49m\u001b[43m \u001b[49m\u001b[43mcolumns\u001b[49m\u001b[38;5;241;43m=\u001b[39;49m\u001b[43mcolumns\u001b[49m\u001b[43m,\u001b[49m\u001b[43m \u001b[49m\u001b[43mdeep\u001b[49m\u001b[38;5;241;43m=\u001b[39;49m\u001b[43mdeep\u001b[49m\u001b[43m,\u001b[49m\u001b[43m \u001b[49m\u001b[43mindex\u001b[49m\u001b[38;5;241;43m=\u001b[39;49m\u001b[43mX_alt_index\u001b[49m\u001b[43m)\u001b[49m\n\u001b[0;32m     82\u001b[0m \u001b[38;5;28;01mif\u001b[39;00m y \u001b[38;5;129;01mis\u001b[39;00m \u001b[38;5;129;01mnot\u001b[39;00m \u001b[38;5;28;01mNone\u001b[39;00m:\n\u001b[0;32m     83\u001b[0m     y \u001b[38;5;241m=\u001b[39m convert_input_vector(y, index\u001b[38;5;241m=\u001b[39mX\u001b[38;5;241m.\u001b[39mindex)\n",
            "File \u001b[1;32mc:\\Users\\S. R. Samim\\AppData\\Local\\Programs\\Python\\Python312\\Lib\\site-packages\\category_encoders\\utils.py:115\u001b[0m, in \u001b[0;36mconvert_input\u001b[1;34m(X, columns, deep, index)\u001b[0m\n\u001b[0;32m    113\u001b[0m             X \u001b[38;5;241m=\u001b[39m pd\u001b[38;5;241m.\u001b[39mDataFrame(X\u001b[38;5;241m.\u001b[39mtodense(), columns\u001b[38;5;241m=\u001b[39mcolumns, copy\u001b[38;5;241m=\u001b[39mdeep, index\u001b[38;5;241m=\u001b[39mindex)\n\u001b[0;32m    114\u001b[0m         \u001b[38;5;28;01melse\u001b[39;00m:\n\u001b[1;32m--> 115\u001b[0m             \u001b[38;5;28;01mraise\u001b[39;00m \u001b[38;5;167;01mValueError\u001b[39;00m(\u001b[38;5;124mf\u001b[39m\u001b[38;5;124m'\u001b[39m\u001b[38;5;124mUnexpected input type: \u001b[39m\u001b[38;5;132;01m{\u001b[39;00m\u001b[38;5;28mtype\u001b[39m(X)\u001b[38;5;132;01m}\u001b[39;00m\u001b[38;5;124m'\u001b[39m)\n\u001b[0;32m    116\u001b[0m \u001b[38;5;28;01melif\u001b[39;00m deep:\n\u001b[0;32m    117\u001b[0m     X \u001b[38;5;241m=\u001b[39m X\u001b[38;5;241m.\u001b[39mcopy(deep\u001b[38;5;241m=\u001b[39m\u001b[38;5;28;01mTrue\u001b[39;00m)\n",
            "\u001b[1;31mValueError\u001b[0m: Unexpected input type: <class 'str'>"
          ]
        }
      ],
      "source": [
        "# Load the target encoder from pickle\n",
        "with open('target_encoder.pkl', 'rb') as file:\n",
        "    target_encoder = pickle.load(file)\n",
        "\n",
        "# New data for prediction (replace with actual new data)\n",
        "new_data = pd.DataFrame({\n",
        "    'Bedrooms': [2, 3],\n",
        "    'Bathrooms': [2, 3],\n",
        "    'Floor_no': [1, 2],\n",
        "    'Floor_area': [1200, 1500],\n",
        "    'Location': ['Gulshan', 'Banani'],  # Test locations\n",
        "    'City_dhaka': [1, 0],\n",
        "    'City_chattogram': [0, 1]\n",
        "})\n",
        "\n",
        "# Apply the saved target encoder to the new data\n",
        "new_data['Location_encoded'] = target_encoder.transform(new_data['Location'])\n",
        "new_d=target_encoder.transform(\"Gulshan\")\n",
        "\n",
        "# Check the transformed data\n",
        "print(\"New data after target encoding:\")\n",
        "print(new_d)\n",
        "print(type(new_data['Location']))"
      ]
    },
    {
      "cell_type": "code",
      "execution_count": null,
      "metadata": {},
      "outputs": [],
      "source": []
    },
    {
      "cell_type": "code",
      "execution_count": null,
      "metadata": {},
      "outputs": [],
      "source": [
        "import json\n",
        "import pickle\n",
        "import pandas as pd\n",
        "\n",
        "# Load the pickle files for Target Encoder and ML model\n",
        "with open('target_encoder.pkl', 'rb') as te_file:\n",
        "    target_encoder = pickle.load(te_file)\n",
        "\n",
        "with open('ml_model.pkl', 'rb') as model_file:\n",
        "    ml_model = pickle.load(model_file)\n",
        "\n",
        "# Example JSON input\n",
        "json_input = '''{\n",
        "    \"City\": \"narayanganj-city\",\n",
        "    \"Location\": \"Downtown\",\n",
        "    \"beds\": 3,\n",
        "    \"bath\": 2,\n",
        "    \"area\": 1500\n",
        "}'''\n",
        "\n",
        "# Convert the JSON input to a Python dictionary\n",
        "input_data = json.loads(json_input)\n",
        "\n",
        "# Convert the dictionary to a Pandas DataFrame\n",
        "input_df = pd.DataFrame([input_data])\n",
        "\n",
        "# Apply the Target Encoder to the 'Location' column (assuming Location needs encoding)\n",
        "input_df['Location'] = target_encoder.transform(input_df['Location'])\n",
        "\n",
        "# Pass the transformed input to the machine learning model for prediction\n",
        "predicted_value = ml_model.predict(input_df)\n",
        "\n",
        "# Output the prediction\n",
        "print(\"Predicted Value:\", predicted_value)\n"
      ]
    },
    {
      "cell_type": "code",
      "execution_count": null,
      "metadata": {},
      "outputs": [],
      "source": []
    },
    {
      "cell_type": "code",
      "execution_count": null,
      "metadata": {},
      "outputs": [],
      "source": []
    },
    {
      "cell_type": "code",
      "execution_count": null,
      "metadata": {},
      "outputs": [],
      "source": []
    },
    {
      "cell_type": "code",
      "execution_count": null,
      "metadata": {},
      "outputs": [],
      "source": []
    },
    {
      "cell_type": "code",
      "execution_count": null,
      "metadata": {},
      "outputs": [],
      "source": []
    },
    {
      "cell_type": "code",
      "execution_count": null,
      "metadata": {},
      "outputs": [],
      "source": []
    },
    {
      "cell_type": "code",
      "execution_count": 242,
      "metadata": {
        "id": "UX0OVwufXyYf"
      },
      "outputs": [
        {
          "name": "stdout",
          "output_type": "stream",
          "text": [
            "<class 'pandas.core.frame.DataFrame'>\n",
            "Index: 3848 entries, 0 to 3864\n",
            "Data columns (total 7 columns):\n",
            " #   Column         Non-Null Count  Dtype  \n",
            "---  ------         --------------  -----  \n",
            " 0   Bedrooms       3848 non-null   float64\n",
            " 1   Bathrooms      3848 non-null   float64\n",
            " 2   Floor_no       3848 non-null   object \n",
            " 3   Floor_area     3848 non-null   float64\n",
            " 4   City           3848 non-null   object \n",
            " 5   Price_in_taka  3848 non-null   float64\n",
            " 6   Location       3848 non-null   float64\n",
            "dtypes: float64(5), object(2)\n",
            "memory usage: 240.5+ KB\n"
          ]
        }
      ],
      "source": [
        "new_df.info()"
      ]
    },
    {
      "cell_type": "code",
      "execution_count": 243,
      "metadata": {
        "id": "Kpb7vbGuYEWl"
      },
      "outputs": [],
      "source": [
        "new_df['Floor_no']=new_df['Floor_no'].astype(int)"
      ]
    },
    {
      "cell_type": "code",
      "execution_count": 244,
      "metadata": {
        "id": "4q3jjdNFYPYP"
      },
      "outputs": [],
      "source": [
        "new_df=pd.get_dummies(new_df,columns=['City'])"
      ]
    },
    {
      "cell_type": "code",
      "execution_count": 245,
      "metadata": {
        "id": "n-opkoPhYWai"
      },
      "outputs": [
        {
          "data": {
            "text/html": [
              "<div>\n",
              "<style scoped>\n",
              "    .dataframe tbody tr th:only-of-type {\n",
              "        vertical-align: middle;\n",
              "    }\n",
              "\n",
              "    .dataframe tbody tr th {\n",
              "        vertical-align: top;\n",
              "    }\n",
              "\n",
              "    .dataframe thead th {\n",
              "        text-align: right;\n",
              "    }\n",
              "</style>\n",
              "<table border=\"1\" class=\"dataframe\">\n",
              "  <thead>\n",
              "    <tr style=\"text-align: right;\">\n",
              "      <th></th>\n",
              "      <th>Bedrooms</th>\n",
              "      <th>Bathrooms</th>\n",
              "      <th>Floor_no</th>\n",
              "      <th>Floor_area</th>\n",
              "      <th>Price_in_taka</th>\n",
              "      <th>Location</th>\n",
              "      <th>City_chattogram</th>\n",
              "      <th>City_cumilla</th>\n",
              "      <th>City_dhaka</th>\n",
              "      <th>City_gazipur</th>\n",
              "      <th>City_narayanganj-city</th>\n",
              "    </tr>\n",
              "  </thead>\n",
              "  <tbody>\n",
              "    <tr>\n",
              "      <th>0</th>\n",
              "      <td>3.0</td>\n",
              "      <td>4.0</td>\n",
              "      <td>3</td>\n",
              "      <td>1960.0</td>\n",
              "      <td>39000000.0</td>\n",
              "      <td>8.137458e+07</td>\n",
              "      <td>False</td>\n",
              "      <td>False</td>\n",
              "      <td>True</td>\n",
              "      <td>False</td>\n",
              "      <td>False</td>\n",
              "    </tr>\n",
              "    <tr>\n",
              "      <th>1</th>\n",
              "      <td>3.0</td>\n",
              "      <td>3.0</td>\n",
              "      <td>1</td>\n",
              "      <td>1705.0</td>\n",
              "      <td>16900000.0</td>\n",
              "      <td>1.409571e+07</td>\n",
              "      <td>False</td>\n",
              "      <td>False</td>\n",
              "      <td>True</td>\n",
              "      <td>False</td>\n",
              "      <td>False</td>\n",
              "    </tr>\n",
              "    <tr>\n",
              "      <th>2</th>\n",
              "      <td>3.0</td>\n",
              "      <td>3.0</td>\n",
              "      <td>6</td>\n",
              "      <td>1370.0</td>\n",
              "      <td>12500000.0</td>\n",
              "      <td>1.990445e+07</td>\n",
              "      <td>False</td>\n",
              "      <td>False</td>\n",
              "      <td>True</td>\n",
              "      <td>False</td>\n",
              "      <td>False</td>\n",
              "    </tr>\n",
              "    <tr>\n",
              "      <th>3</th>\n",
              "      <td>3.0</td>\n",
              "      <td>3.0</td>\n",
              "      <td>4</td>\n",
              "      <td>2125.0</td>\n",
              "      <td>20000000.0</td>\n",
              "      <td>2.183746e+07</td>\n",
              "      <td>False</td>\n",
              "      <td>False</td>\n",
              "      <td>True</td>\n",
              "      <td>False</td>\n",
              "      <td>False</td>\n",
              "    </tr>\n",
              "    <tr>\n",
              "      <th>4</th>\n",
              "      <td>3.0</td>\n",
              "      <td>3.0</td>\n",
              "      <td>4</td>\n",
              "      <td>2687.0</td>\n",
              "      <td>47500000.0</td>\n",
              "      <td>1.856280e+07</td>\n",
              "      <td>False</td>\n",
              "      <td>False</td>\n",
              "      <td>True</td>\n",
              "      <td>False</td>\n",
              "      <td>False</td>\n",
              "    </tr>\n",
              "  </tbody>\n",
              "</table>\n",
              "</div>"
            ],
            "text/plain": [
              "   Bedrooms  Bathrooms  Floor_no  Floor_area  Price_in_taka      Location  \\\n",
              "0       3.0        4.0         3      1960.0     39000000.0  8.137458e+07   \n",
              "1       3.0        3.0         1      1705.0     16900000.0  1.409571e+07   \n",
              "2       3.0        3.0         6      1370.0     12500000.0  1.990445e+07   \n",
              "3       3.0        3.0         4      2125.0     20000000.0  2.183746e+07   \n",
              "4       3.0        3.0         4      2687.0     47500000.0  1.856280e+07   \n",
              "\n",
              "   City_chattogram  City_cumilla  City_dhaka  City_gazipur  \\\n",
              "0            False         False        True         False   \n",
              "1            False         False        True         False   \n",
              "2            False         False        True         False   \n",
              "3            False         False        True         False   \n",
              "4            False         False        True         False   \n",
              "\n",
              "   City_narayanganj-city  \n",
              "0                  False  \n",
              "1                  False  \n",
              "2                  False  \n",
              "3                  False  \n",
              "4                  False  "
            ]
          },
          "execution_count": 245,
          "metadata": {},
          "output_type": "execute_result"
        }
      ],
      "source": [
        "new_df.head()"
      ]
    },
    {
      "cell_type": "code",
      "execution_count": 246,
      "metadata": {},
      "outputs": [
        {
          "ename": "KeyError",
          "evalue": "\"['Location_encoded'] not found in axis\"",
          "output_type": "error",
          "traceback": [
            "\u001b[1;31m---------------------------------------------------------------------------\u001b[0m",
            "\u001b[1;31mKeyError\u001b[0m                                  Traceback (most recent call last)",
            "Cell \u001b[1;32mIn[246], line 1\u001b[0m\n\u001b[1;32m----> 1\u001b[0m \u001b[43mnew_df\u001b[49m\u001b[38;5;241;43m.\u001b[39;49m\u001b[43mdrop\u001b[49m\u001b[43m(\u001b[49m\u001b[38;5;124;43m'\u001b[39;49m\u001b[38;5;124;43mLocation_encoded\u001b[39;49m\u001b[38;5;124;43m'\u001b[39;49m\u001b[43m,\u001b[49m\u001b[43maxis\u001b[49m\u001b[38;5;241;43m=\u001b[39;49m\u001b[38;5;241;43m1\u001b[39;49m\u001b[43m,\u001b[49m\u001b[43minplace\u001b[49m\u001b[38;5;241;43m=\u001b[39;49m\u001b[38;5;28;43;01mTrue\u001b[39;49;00m\u001b[43m)\u001b[49m\n",
            "File \u001b[1;32mc:\\Users\\S. R. Samim\\AppData\\Local\\Programs\\Python\\Python312\\Lib\\site-packages\\pandas\\core\\frame.py:5581\u001b[0m, in \u001b[0;36mDataFrame.drop\u001b[1;34m(self, labels, axis, index, columns, level, inplace, errors)\u001b[0m\n\u001b[0;32m   5433\u001b[0m \u001b[38;5;28;01mdef\u001b[39;00m \u001b[38;5;21mdrop\u001b[39m(\n\u001b[0;32m   5434\u001b[0m     \u001b[38;5;28mself\u001b[39m,\n\u001b[0;32m   5435\u001b[0m     labels: IndexLabel \u001b[38;5;241m|\u001b[39m \u001b[38;5;28;01mNone\u001b[39;00m \u001b[38;5;241m=\u001b[39m \u001b[38;5;28;01mNone\u001b[39;00m,\n\u001b[1;32m   (...)\u001b[0m\n\u001b[0;32m   5442\u001b[0m     errors: IgnoreRaise \u001b[38;5;241m=\u001b[39m \u001b[38;5;124m\"\u001b[39m\u001b[38;5;124mraise\u001b[39m\u001b[38;5;124m\"\u001b[39m,\n\u001b[0;32m   5443\u001b[0m ) \u001b[38;5;241m-\u001b[39m\u001b[38;5;241m>\u001b[39m DataFrame \u001b[38;5;241m|\u001b[39m \u001b[38;5;28;01mNone\u001b[39;00m:\n\u001b[0;32m   5444\u001b[0m \u001b[38;5;250m    \u001b[39m\u001b[38;5;124;03m\"\"\"\u001b[39;00m\n\u001b[0;32m   5445\u001b[0m \u001b[38;5;124;03m    Drop specified labels from rows or columns.\u001b[39;00m\n\u001b[0;32m   5446\u001b[0m \n\u001b[1;32m   (...)\u001b[0m\n\u001b[0;32m   5579\u001b[0m \u001b[38;5;124;03m            weight  1.0     0.8\u001b[39;00m\n\u001b[0;32m   5580\u001b[0m \u001b[38;5;124;03m    \"\"\"\u001b[39;00m\n\u001b[1;32m-> 5581\u001b[0m     \u001b[38;5;28;01mreturn\u001b[39;00m \u001b[38;5;28;43msuper\u001b[39;49m\u001b[43m(\u001b[49m\u001b[43m)\u001b[49m\u001b[38;5;241;43m.\u001b[39;49m\u001b[43mdrop\u001b[49m\u001b[43m(\u001b[49m\n\u001b[0;32m   5582\u001b[0m \u001b[43m        \u001b[49m\u001b[43mlabels\u001b[49m\u001b[38;5;241;43m=\u001b[39;49m\u001b[43mlabels\u001b[49m\u001b[43m,\u001b[49m\n\u001b[0;32m   5583\u001b[0m \u001b[43m        \u001b[49m\u001b[43maxis\u001b[49m\u001b[38;5;241;43m=\u001b[39;49m\u001b[43maxis\u001b[49m\u001b[43m,\u001b[49m\n\u001b[0;32m   5584\u001b[0m \u001b[43m        \u001b[49m\u001b[43mindex\u001b[49m\u001b[38;5;241;43m=\u001b[39;49m\u001b[43mindex\u001b[49m\u001b[43m,\u001b[49m\n\u001b[0;32m   5585\u001b[0m \u001b[43m        \u001b[49m\u001b[43mcolumns\u001b[49m\u001b[38;5;241;43m=\u001b[39;49m\u001b[43mcolumns\u001b[49m\u001b[43m,\u001b[49m\n\u001b[0;32m   5586\u001b[0m \u001b[43m        \u001b[49m\u001b[43mlevel\u001b[49m\u001b[38;5;241;43m=\u001b[39;49m\u001b[43mlevel\u001b[49m\u001b[43m,\u001b[49m\n\u001b[0;32m   5587\u001b[0m \u001b[43m        \u001b[49m\u001b[43minplace\u001b[49m\u001b[38;5;241;43m=\u001b[39;49m\u001b[43minplace\u001b[49m\u001b[43m,\u001b[49m\n\u001b[0;32m   5588\u001b[0m \u001b[43m        \u001b[49m\u001b[43merrors\u001b[49m\u001b[38;5;241;43m=\u001b[39;49m\u001b[43merrors\u001b[49m\u001b[43m,\u001b[49m\n\u001b[0;32m   5589\u001b[0m \u001b[43m    \u001b[49m\u001b[43m)\u001b[49m\n",
            "File \u001b[1;32mc:\\Users\\S. R. Samim\\AppData\\Local\\Programs\\Python\\Python312\\Lib\\site-packages\\pandas\\core\\generic.py:4788\u001b[0m, in \u001b[0;36mNDFrame.drop\u001b[1;34m(self, labels, axis, index, columns, level, inplace, errors)\u001b[0m\n\u001b[0;32m   4786\u001b[0m \u001b[38;5;28;01mfor\u001b[39;00m axis, labels \u001b[38;5;129;01min\u001b[39;00m axes\u001b[38;5;241m.\u001b[39mitems():\n\u001b[0;32m   4787\u001b[0m     \u001b[38;5;28;01mif\u001b[39;00m labels \u001b[38;5;129;01mis\u001b[39;00m \u001b[38;5;129;01mnot\u001b[39;00m \u001b[38;5;28;01mNone\u001b[39;00m:\n\u001b[1;32m-> 4788\u001b[0m         obj \u001b[38;5;241m=\u001b[39m \u001b[43mobj\u001b[49m\u001b[38;5;241;43m.\u001b[39;49m\u001b[43m_drop_axis\u001b[49m\u001b[43m(\u001b[49m\u001b[43mlabels\u001b[49m\u001b[43m,\u001b[49m\u001b[43m \u001b[49m\u001b[43maxis\u001b[49m\u001b[43m,\u001b[49m\u001b[43m \u001b[49m\u001b[43mlevel\u001b[49m\u001b[38;5;241;43m=\u001b[39;49m\u001b[43mlevel\u001b[49m\u001b[43m,\u001b[49m\u001b[43m \u001b[49m\u001b[43merrors\u001b[49m\u001b[38;5;241;43m=\u001b[39;49m\u001b[43merrors\u001b[49m\u001b[43m)\u001b[49m\n\u001b[0;32m   4790\u001b[0m \u001b[38;5;28;01mif\u001b[39;00m inplace:\n\u001b[0;32m   4791\u001b[0m     \u001b[38;5;28mself\u001b[39m\u001b[38;5;241m.\u001b[39m_update_inplace(obj)\n",
            "File \u001b[1;32mc:\\Users\\S. R. Samim\\AppData\\Local\\Programs\\Python\\Python312\\Lib\\site-packages\\pandas\\core\\generic.py:4830\u001b[0m, in \u001b[0;36mNDFrame._drop_axis\u001b[1;34m(self, labels, axis, level, errors, only_slice)\u001b[0m\n\u001b[0;32m   4828\u001b[0m         new_axis \u001b[38;5;241m=\u001b[39m axis\u001b[38;5;241m.\u001b[39mdrop(labels, level\u001b[38;5;241m=\u001b[39mlevel, errors\u001b[38;5;241m=\u001b[39merrors)\n\u001b[0;32m   4829\u001b[0m     \u001b[38;5;28;01melse\u001b[39;00m:\n\u001b[1;32m-> 4830\u001b[0m         new_axis \u001b[38;5;241m=\u001b[39m \u001b[43maxis\u001b[49m\u001b[38;5;241;43m.\u001b[39;49m\u001b[43mdrop\u001b[49m\u001b[43m(\u001b[49m\u001b[43mlabels\u001b[49m\u001b[43m,\u001b[49m\u001b[43m \u001b[49m\u001b[43merrors\u001b[49m\u001b[38;5;241;43m=\u001b[39;49m\u001b[43merrors\u001b[49m\u001b[43m)\u001b[49m\n\u001b[0;32m   4831\u001b[0m     indexer \u001b[38;5;241m=\u001b[39m axis\u001b[38;5;241m.\u001b[39mget_indexer(new_axis)\n\u001b[0;32m   4833\u001b[0m \u001b[38;5;66;03m# Case for non-unique axis\u001b[39;00m\n\u001b[0;32m   4834\u001b[0m \u001b[38;5;28;01melse\u001b[39;00m:\n",
            "File \u001b[1;32mc:\\Users\\S. R. Samim\\AppData\\Local\\Programs\\Python\\Python312\\Lib\\site-packages\\pandas\\core\\indexes\\base.py:7070\u001b[0m, in \u001b[0;36mIndex.drop\u001b[1;34m(self, labels, errors)\u001b[0m\n\u001b[0;32m   7068\u001b[0m \u001b[38;5;28;01mif\u001b[39;00m mask\u001b[38;5;241m.\u001b[39many():\n\u001b[0;32m   7069\u001b[0m     \u001b[38;5;28;01mif\u001b[39;00m errors \u001b[38;5;241m!=\u001b[39m \u001b[38;5;124m\"\u001b[39m\u001b[38;5;124mignore\u001b[39m\u001b[38;5;124m\"\u001b[39m:\n\u001b[1;32m-> 7070\u001b[0m         \u001b[38;5;28;01mraise\u001b[39;00m \u001b[38;5;167;01mKeyError\u001b[39;00m(\u001b[38;5;124mf\u001b[39m\u001b[38;5;124m\"\u001b[39m\u001b[38;5;132;01m{\u001b[39;00mlabels[mask]\u001b[38;5;241m.\u001b[39mtolist()\u001b[38;5;132;01m}\u001b[39;00m\u001b[38;5;124m not found in axis\u001b[39m\u001b[38;5;124m\"\u001b[39m)\n\u001b[0;32m   7071\u001b[0m     indexer \u001b[38;5;241m=\u001b[39m indexer[\u001b[38;5;241m~\u001b[39mmask]\n\u001b[0;32m   7072\u001b[0m \u001b[38;5;28;01mreturn\u001b[39;00m \u001b[38;5;28mself\u001b[39m\u001b[38;5;241m.\u001b[39mdelete(indexer)\n",
            "\u001b[1;31mKeyError\u001b[0m: \"['Location_encoded'] not found in axis\""
          ]
        }
      ],
      "source": [
        "new_df.drop('Location_encoded',axis=1,inplace=True)"
      ]
    },
    {
      "cell_type": "code",
      "execution_count": 247,
      "metadata": {
        "id": "Kx2lf9tqYY-z"
      },
      "outputs": [],
      "source": [
        "new_df=1*new_df"
      ]
    },
    {
      "cell_type": "code",
      "execution_count": 248,
      "metadata": {
        "id": "PJ7TUVq-YeYu"
      },
      "outputs": [
        {
          "data": {
            "text/html": [
              "<div>\n",
              "<style scoped>\n",
              "    .dataframe tbody tr th:only-of-type {\n",
              "        vertical-align: middle;\n",
              "    }\n",
              "\n",
              "    .dataframe tbody tr th {\n",
              "        vertical-align: top;\n",
              "    }\n",
              "\n",
              "    .dataframe thead th {\n",
              "        text-align: right;\n",
              "    }\n",
              "</style>\n",
              "<table border=\"1\" class=\"dataframe\">\n",
              "  <thead>\n",
              "    <tr style=\"text-align: right;\">\n",
              "      <th></th>\n",
              "      <th>Bedrooms</th>\n",
              "      <th>Bathrooms</th>\n",
              "      <th>Floor_no</th>\n",
              "      <th>Floor_area</th>\n",
              "      <th>Price_in_taka</th>\n",
              "      <th>Location</th>\n",
              "      <th>City_chattogram</th>\n",
              "      <th>City_cumilla</th>\n",
              "      <th>City_dhaka</th>\n",
              "      <th>City_gazipur</th>\n",
              "      <th>City_narayanganj-city</th>\n",
              "    </tr>\n",
              "  </thead>\n",
              "  <tbody>\n",
              "    <tr>\n",
              "      <th>0</th>\n",
              "      <td>3.0</td>\n",
              "      <td>4.0</td>\n",
              "      <td>3</td>\n",
              "      <td>1960.0</td>\n",
              "      <td>39000000.0</td>\n",
              "      <td>8.137458e+07</td>\n",
              "      <td>0</td>\n",
              "      <td>0</td>\n",
              "      <td>1</td>\n",
              "      <td>0</td>\n",
              "      <td>0</td>\n",
              "    </tr>\n",
              "    <tr>\n",
              "      <th>1</th>\n",
              "      <td>3.0</td>\n",
              "      <td>3.0</td>\n",
              "      <td>1</td>\n",
              "      <td>1705.0</td>\n",
              "      <td>16900000.0</td>\n",
              "      <td>1.409571e+07</td>\n",
              "      <td>0</td>\n",
              "      <td>0</td>\n",
              "      <td>1</td>\n",
              "      <td>0</td>\n",
              "      <td>0</td>\n",
              "    </tr>\n",
              "    <tr>\n",
              "      <th>2</th>\n",
              "      <td>3.0</td>\n",
              "      <td>3.0</td>\n",
              "      <td>6</td>\n",
              "      <td>1370.0</td>\n",
              "      <td>12500000.0</td>\n",
              "      <td>1.990445e+07</td>\n",
              "      <td>0</td>\n",
              "      <td>0</td>\n",
              "      <td>1</td>\n",
              "      <td>0</td>\n",
              "      <td>0</td>\n",
              "    </tr>\n",
              "    <tr>\n",
              "      <th>3</th>\n",
              "      <td>3.0</td>\n",
              "      <td>3.0</td>\n",
              "      <td>4</td>\n",
              "      <td>2125.0</td>\n",
              "      <td>20000000.0</td>\n",
              "      <td>2.183746e+07</td>\n",
              "      <td>0</td>\n",
              "      <td>0</td>\n",
              "      <td>1</td>\n",
              "      <td>0</td>\n",
              "      <td>0</td>\n",
              "    </tr>\n",
              "    <tr>\n",
              "      <th>4</th>\n",
              "      <td>3.0</td>\n",
              "      <td>3.0</td>\n",
              "      <td>4</td>\n",
              "      <td>2687.0</td>\n",
              "      <td>47500000.0</td>\n",
              "      <td>1.856280e+07</td>\n",
              "      <td>0</td>\n",
              "      <td>0</td>\n",
              "      <td>1</td>\n",
              "      <td>0</td>\n",
              "      <td>0</td>\n",
              "    </tr>\n",
              "  </tbody>\n",
              "</table>\n",
              "</div>"
            ],
            "text/plain": [
              "   Bedrooms  Bathrooms  Floor_no  Floor_area  Price_in_taka      Location  \\\n",
              "0       3.0        4.0         3      1960.0     39000000.0  8.137458e+07   \n",
              "1       3.0        3.0         1      1705.0     16900000.0  1.409571e+07   \n",
              "2       3.0        3.0         6      1370.0     12500000.0  1.990445e+07   \n",
              "3       3.0        3.0         4      2125.0     20000000.0  2.183746e+07   \n",
              "4       3.0        3.0         4      2687.0     47500000.0  1.856280e+07   \n",
              "\n",
              "   City_chattogram  City_cumilla  City_dhaka  City_gazipur  \\\n",
              "0                0             0           1             0   \n",
              "1                0             0           1             0   \n",
              "2                0             0           1             0   \n",
              "3                0             0           1             0   \n",
              "4                0             0           1             0   \n",
              "\n",
              "   City_narayanganj-city  \n",
              "0                      0  \n",
              "1                      0  \n",
              "2                      0  \n",
              "3                      0  \n",
              "4                      0  "
            ]
          },
          "execution_count": 248,
          "metadata": {},
          "output_type": "execute_result"
        }
      ],
      "source": [
        "new_df.head()"
      ]
    },
    {
      "cell_type": "code",
      "execution_count": null,
      "metadata": {},
      "outputs": [],
      "source": []
    },
    {
      "cell_type": "code",
      "execution_count": 249,
      "metadata": {
        "id": "laXqLdIPY2j0"
      },
      "outputs": [],
      "source": [
        "X=new_df.drop('Price_in_taka',axis=1)\n",
        "y=new_df['Price_in_taka']"
      ]
    },
    {
      "cell_type": "code",
      "execution_count": 260,
      "metadata": {},
      "outputs": [
        {
          "data": {
            "text/html": [
              "<div>\n",
              "<style scoped>\n",
              "    .dataframe tbody tr th:only-of-type {\n",
              "        vertical-align: middle;\n",
              "    }\n",
              "\n",
              "    .dataframe tbody tr th {\n",
              "        vertical-align: top;\n",
              "    }\n",
              "\n",
              "    .dataframe thead th {\n",
              "        text-align: right;\n",
              "    }\n",
              "</style>\n",
              "<table border=\"1\" class=\"dataframe\">\n",
              "  <thead>\n",
              "    <tr style=\"text-align: right;\">\n",
              "      <th></th>\n",
              "      <th>Bedrooms</th>\n",
              "      <th>Bathrooms</th>\n",
              "      <th>Floor_no</th>\n",
              "      <th>Floor_area</th>\n",
              "      <th>Location</th>\n",
              "      <th>City_chattogram</th>\n",
              "      <th>City_cumilla</th>\n",
              "      <th>City_dhaka</th>\n",
              "      <th>City_gazipur</th>\n",
              "      <th>City_narayanganj-city</th>\n",
              "    </tr>\n",
              "  </thead>\n",
              "  <tbody>\n",
              "    <tr>\n",
              "      <th>0</th>\n",
              "      <td>3.0</td>\n",
              "      <td>4.0</td>\n",
              "      <td>3</td>\n",
              "      <td>1960.0</td>\n",
              "      <td>8.137458e+07</td>\n",
              "      <td>0</td>\n",
              "      <td>0</td>\n",
              "      <td>1</td>\n",
              "      <td>0</td>\n",
              "      <td>0</td>\n",
              "    </tr>\n",
              "    <tr>\n",
              "      <th>1</th>\n",
              "      <td>3.0</td>\n",
              "      <td>3.0</td>\n",
              "      <td>1</td>\n",
              "      <td>1705.0</td>\n",
              "      <td>1.409571e+07</td>\n",
              "      <td>0</td>\n",
              "      <td>0</td>\n",
              "      <td>1</td>\n",
              "      <td>0</td>\n",
              "      <td>0</td>\n",
              "    </tr>\n",
              "    <tr>\n",
              "      <th>2</th>\n",
              "      <td>3.0</td>\n",
              "      <td>3.0</td>\n",
              "      <td>6</td>\n",
              "      <td>1370.0</td>\n",
              "      <td>1.990445e+07</td>\n",
              "      <td>0</td>\n",
              "      <td>0</td>\n",
              "      <td>1</td>\n",
              "      <td>0</td>\n",
              "      <td>0</td>\n",
              "    </tr>\n",
              "    <tr>\n",
              "      <th>3</th>\n",
              "      <td>3.0</td>\n",
              "      <td>3.0</td>\n",
              "      <td>4</td>\n",
              "      <td>2125.0</td>\n",
              "      <td>2.183746e+07</td>\n",
              "      <td>0</td>\n",
              "      <td>0</td>\n",
              "      <td>1</td>\n",
              "      <td>0</td>\n",
              "      <td>0</td>\n",
              "    </tr>\n",
              "    <tr>\n",
              "      <th>4</th>\n",
              "      <td>3.0</td>\n",
              "      <td>3.0</td>\n",
              "      <td>4</td>\n",
              "      <td>2687.0</td>\n",
              "      <td>1.856280e+07</td>\n",
              "      <td>0</td>\n",
              "      <td>0</td>\n",
              "      <td>1</td>\n",
              "      <td>0</td>\n",
              "      <td>0</td>\n",
              "    </tr>\n",
              "    <tr>\n",
              "      <th>...</th>\n",
              "      <td>...</td>\n",
              "      <td>...</td>\n",
              "      <td>...</td>\n",
              "      <td>...</td>\n",
              "      <td>...</td>\n",
              "      <td>...</td>\n",
              "      <td>...</td>\n",
              "      <td>...</td>\n",
              "      <td>...</td>\n",
              "      <td>...</td>\n",
              "    </tr>\n",
              "    <tr>\n",
              "      <th>3860</th>\n",
              "      <td>3.0</td>\n",
              "      <td>3.0</td>\n",
              "      <td>8</td>\n",
              "      <td>1350.0</td>\n",
              "      <td>8.985729e+06</td>\n",
              "      <td>0</td>\n",
              "      <td>0</td>\n",
              "      <td>0</td>\n",
              "      <td>1</td>\n",
              "      <td>0</td>\n",
              "    </tr>\n",
              "    <tr>\n",
              "      <th>3861</th>\n",
              "      <td>2.0</td>\n",
              "      <td>2.0</td>\n",
              "      <td>7</td>\n",
              "      <td>1000.0</td>\n",
              "      <td>8.985729e+06</td>\n",
              "      <td>0</td>\n",
              "      <td>0</td>\n",
              "      <td>0</td>\n",
              "      <td>1</td>\n",
              "      <td>0</td>\n",
              "    </tr>\n",
              "    <tr>\n",
              "      <th>3862</th>\n",
              "      <td>3.0</td>\n",
              "      <td>3.0</td>\n",
              "      <td>9</td>\n",
              "      <td>1240.0</td>\n",
              "      <td>8.985729e+06</td>\n",
              "      <td>0</td>\n",
              "      <td>0</td>\n",
              "      <td>0</td>\n",
              "      <td>1</td>\n",
              "      <td>0</td>\n",
              "    </tr>\n",
              "    <tr>\n",
              "      <th>3863</th>\n",
              "      <td>3.0</td>\n",
              "      <td>3.0</td>\n",
              "      <td>9</td>\n",
              "      <td>1300.0</td>\n",
              "      <td>8.985729e+06</td>\n",
              "      <td>0</td>\n",
              "      <td>0</td>\n",
              "      <td>0</td>\n",
              "      <td>1</td>\n",
              "      <td>0</td>\n",
              "    </tr>\n",
              "    <tr>\n",
              "      <th>3864</th>\n",
              "      <td>3.0</td>\n",
              "      <td>3.0</td>\n",
              "      <td>8</td>\n",
              "      <td>1350.0</td>\n",
              "      <td>8.985729e+06</td>\n",
              "      <td>0</td>\n",
              "      <td>0</td>\n",
              "      <td>0</td>\n",
              "      <td>1</td>\n",
              "      <td>0</td>\n",
              "    </tr>\n",
              "  </tbody>\n",
              "</table>\n",
              "<p>3848 rows × 10 columns</p>\n",
              "</div>"
            ],
            "text/plain": [
              "      Bedrooms  Bathrooms  Floor_no  Floor_area      Location  \\\n",
              "0          3.0        4.0         3      1960.0  8.137458e+07   \n",
              "1          3.0        3.0         1      1705.0  1.409571e+07   \n",
              "2          3.0        3.0         6      1370.0  1.990445e+07   \n",
              "3          3.0        3.0         4      2125.0  2.183746e+07   \n",
              "4          3.0        3.0         4      2687.0  1.856280e+07   \n",
              "...        ...        ...       ...         ...           ...   \n",
              "3860       3.0        3.0         8      1350.0  8.985729e+06   \n",
              "3861       2.0        2.0         7      1000.0  8.985729e+06   \n",
              "3862       3.0        3.0         9      1240.0  8.985729e+06   \n",
              "3863       3.0        3.0         9      1300.0  8.985729e+06   \n",
              "3864       3.0        3.0         8      1350.0  8.985729e+06   \n",
              "\n",
              "      City_chattogram  City_cumilla  City_dhaka  City_gazipur  \\\n",
              "0                   0             0           1             0   \n",
              "1                   0             0           1             0   \n",
              "2                   0             0           1             0   \n",
              "3                   0             0           1             0   \n",
              "4                   0             0           1             0   \n",
              "...               ...           ...         ...           ...   \n",
              "3860                0             0           0             1   \n",
              "3861                0             0           0             1   \n",
              "3862                0             0           0             1   \n",
              "3863                0             0           0             1   \n",
              "3864                0             0           0             1   \n",
              "\n",
              "      City_narayanganj-city  \n",
              "0                         0  \n",
              "1                         0  \n",
              "2                         0  \n",
              "3                         0  \n",
              "4                         0  \n",
              "...                     ...  \n",
              "3860                      0  \n",
              "3861                      0  \n",
              "3862                      0  \n",
              "3863                      0  \n",
              "3864                      0  \n",
              "\n",
              "[3848 rows x 10 columns]"
            ]
          },
          "execution_count": 260,
          "metadata": {},
          "output_type": "execute_result"
        }
      ],
      "source": [
        "X"
      ]
    },
    {
      "cell_type": "code",
      "execution_count": 261,
      "metadata": {},
      "outputs": [
        {
          "data": {
            "text/html": [
              "<div>\n",
              "<style scoped>\n",
              "    .dataframe tbody tr th:only-of-type {\n",
              "        vertical-align: middle;\n",
              "    }\n",
              "\n",
              "    .dataframe tbody tr th {\n",
              "        vertical-align: top;\n",
              "    }\n",
              "\n",
              "    .dataframe thead th {\n",
              "        text-align: right;\n",
              "    }\n",
              "</style>\n",
              "<table border=\"1\" class=\"dataframe\">\n",
              "  <thead>\n",
              "    <tr style=\"text-align: right;\">\n",
              "      <th></th>\n",
              "      <th>Bedrooms</th>\n",
              "      <th>Bathrooms</th>\n",
              "      <th>Floor_no</th>\n",
              "      <th>Floor_area</th>\n",
              "      <th>Location</th>\n",
              "      <th>City_chattogram</th>\n",
              "      <th>City_cumilla</th>\n",
              "      <th>City_dhaka</th>\n",
              "      <th>City_gazipur</th>\n",
              "      <th>City_narayanganj-city</th>\n",
              "    </tr>\n",
              "  </thead>\n",
              "  <tbody>\n",
              "    <tr>\n",
              "      <th>1744</th>\n",
              "      <td>3.000000</td>\n",
              "      <td>3.000000</td>\n",
              "      <td>3</td>\n",
              "      <td>1150.000000</td>\n",
              "      <td>6.183941e+06</td>\n",
              "      <td>1</td>\n",
              "      <td>0</td>\n",
              "      <td>0</td>\n",
              "      <td>0</td>\n",
              "      <td>0</td>\n",
              "    </tr>\n",
              "    <tr>\n",
              "      <th>3207</th>\n",
              "      <td>3.000000</td>\n",
              "      <td>3.000000</td>\n",
              "      <td>7</td>\n",
              "      <td>1300.000000</td>\n",
              "      <td>5.867845e+06</td>\n",
              "      <td>0</td>\n",
              "      <td>1</td>\n",
              "      <td>0</td>\n",
              "      <td>0</td>\n",
              "      <td>0</td>\n",
              "    </tr>\n",
              "    <tr>\n",
              "      <th>2138</th>\n",
              "      <td>3.133031</td>\n",
              "      <td>2.992668</td>\n",
              "      <td>4</td>\n",
              "      <td>180.000000</td>\n",
              "      <td>6.183941e+06</td>\n",
              "      <td>1</td>\n",
              "      <td>0</td>\n",
              "      <td>0</td>\n",
              "      <td>0</td>\n",
              "      <td>0</td>\n",
              "    </tr>\n",
              "    <tr>\n",
              "      <th>452</th>\n",
              "      <td>3.133031</td>\n",
              "      <td>2.992668</td>\n",
              "      <td>1</td>\n",
              "      <td>368.000000</td>\n",
              "      <td>1.364490e+07</td>\n",
              "      <td>0</td>\n",
              "      <td>0</td>\n",
              "      <td>1</td>\n",
              "      <td>0</td>\n",
              "      <td>0</td>\n",
              "    </tr>\n",
              "    <tr>\n",
              "      <th>3556</th>\n",
              "      <td>3.133031</td>\n",
              "      <td>2.992668</td>\n",
              "      <td>4</td>\n",
              "      <td>2160.000000</td>\n",
              "      <td>6.215632e+06</td>\n",
              "      <td>0</td>\n",
              "      <td>0</td>\n",
              "      <td>0</td>\n",
              "      <td>0</td>\n",
              "      <td>1</td>\n",
              "    </tr>\n",
              "    <tr>\n",
              "      <th>...</th>\n",
              "      <td>...</td>\n",
              "      <td>...</td>\n",
              "      <td>...</td>\n",
              "      <td>...</td>\n",
              "      <td>...</td>\n",
              "      <td>...</td>\n",
              "      <td>...</td>\n",
              "      <td>...</td>\n",
              "      <td>...</td>\n",
              "      <td>...</td>\n",
              "    </tr>\n",
              "    <tr>\n",
              "      <th>1134</th>\n",
              "      <td>3.000000</td>\n",
              "      <td>3.000000</td>\n",
              "      <td>8</td>\n",
              "      <td>1800.000000</td>\n",
              "      <td>2.183746e+07</td>\n",
              "      <td>0</td>\n",
              "      <td>0</td>\n",
              "      <td>1</td>\n",
              "      <td>0</td>\n",
              "      <td>0</td>\n",
              "    </tr>\n",
              "    <tr>\n",
              "      <th>1298</th>\n",
              "      <td>3.000000</td>\n",
              "      <td>3.000000</td>\n",
              "      <td>7</td>\n",
              "      <td>1250.000000</td>\n",
              "      <td>7.899884e+06</td>\n",
              "      <td>0</td>\n",
              "      <td>0</td>\n",
              "      <td>1</td>\n",
              "      <td>0</td>\n",
              "      <td>0</td>\n",
              "    </tr>\n",
              "    <tr>\n",
              "      <th>863</th>\n",
              "      <td>3.000000</td>\n",
              "      <td>3.000000</td>\n",
              "      <td>2</td>\n",
              "      <td>1500.000000</td>\n",
              "      <td>1.003165e+07</td>\n",
              "      <td>0</td>\n",
              "      <td>0</td>\n",
              "      <td>1</td>\n",
              "      <td>0</td>\n",
              "      <td>0</td>\n",
              "    </tr>\n",
              "    <tr>\n",
              "      <th>3524</th>\n",
              "      <td>3.133031</td>\n",
              "      <td>2.992668</td>\n",
              "      <td>4</td>\n",
              "      <td>3600.000000</td>\n",
              "      <td>6.215632e+06</td>\n",
              "      <td>0</td>\n",
              "      <td>0</td>\n",
              "      <td>0</td>\n",
              "      <td>0</td>\n",
              "      <td>1</td>\n",
              "    </tr>\n",
              "    <tr>\n",
              "      <th>3185</th>\n",
              "      <td>3.133031</td>\n",
              "      <td>2.992668</td>\n",
              "      <td>4</td>\n",
              "      <td>1941.603567</td>\n",
              "      <td>1.074620e+07</td>\n",
              "      <td>0</td>\n",
              "      <td>1</td>\n",
              "      <td>0</td>\n",
              "      <td>0</td>\n",
              "      <td>0</td>\n",
              "    </tr>\n",
              "  </tbody>\n",
              "</table>\n",
              "<p>3078 rows × 10 columns</p>\n",
              "</div>"
            ],
            "text/plain": [
              "      Bedrooms  Bathrooms  Floor_no   Floor_area      Location  \\\n",
              "1744  3.000000   3.000000         3  1150.000000  6.183941e+06   \n",
              "3207  3.000000   3.000000         7  1300.000000  5.867845e+06   \n",
              "2138  3.133031   2.992668         4   180.000000  6.183941e+06   \n",
              "452   3.133031   2.992668         1   368.000000  1.364490e+07   \n",
              "3556  3.133031   2.992668         4  2160.000000  6.215632e+06   \n",
              "...        ...        ...       ...          ...           ...   \n",
              "1134  3.000000   3.000000         8  1800.000000  2.183746e+07   \n",
              "1298  3.000000   3.000000         7  1250.000000  7.899884e+06   \n",
              "863   3.000000   3.000000         2  1500.000000  1.003165e+07   \n",
              "3524  3.133031   2.992668         4  3600.000000  6.215632e+06   \n",
              "3185  3.133031   2.992668         4  1941.603567  1.074620e+07   \n",
              "\n",
              "      City_chattogram  City_cumilla  City_dhaka  City_gazipur  \\\n",
              "1744                1             0           0             0   \n",
              "3207                0             1           0             0   \n",
              "2138                1             0           0             0   \n",
              "452                 0             0           1             0   \n",
              "3556                0             0           0             0   \n",
              "...               ...           ...         ...           ...   \n",
              "1134                0             0           1             0   \n",
              "1298                0             0           1             0   \n",
              "863                 0             0           1             0   \n",
              "3524                0             0           0             0   \n",
              "3185                0             1           0             0   \n",
              "\n",
              "      City_narayanganj-city  \n",
              "1744                      0  \n",
              "3207                      0  \n",
              "2138                      0  \n",
              "452                       0  \n",
              "3556                      1  \n",
              "...                     ...  \n",
              "1134                      0  \n",
              "1298                      0  \n",
              "863                       0  \n",
              "3524                      1  \n",
              "3185                      0  \n",
              "\n",
              "[3078 rows x 10 columns]"
            ]
          },
          "execution_count": 261,
          "metadata": {},
          "output_type": "execute_result"
        }
      ],
      "source": [
        "X_train"
      ]
    },
    {
      "cell_type": "code",
      "execution_count": 250,
      "metadata": {
        "id": "2v88ieERYrWa"
      },
      "outputs": [],
      "source": [
        "from sklearn.model_selection import train_test_split # Import the correct function: train_test_split"
      ]
    },
    {
      "cell_type": "code",
      "execution_count": 251,
      "metadata": {
        "id": "41ecNGXEY1Th"
      },
      "outputs": [],
      "source": [
        "X_train,X_test,y_train,y_test=train_test_split(X,y,test_size=0.2,random_state=42)"
      ]
    },
    {
      "cell_type": "code",
      "execution_count": 252,
      "metadata": {
        "id": "htvzfFccYlIb"
      },
      "outputs": [],
      "source": [
        "from sklearn.ensemble import RandomForestRegressor\n",
        "from sklearn.metrics import mean_squared_error, r2_score, accuracy_score\n",
        "model1=RandomForestRegressor( n_estimators=500,\n",
        "    min_samples_split=5,\n",
        "    min_samples_leaf=1,\n",
        "    max_features='log2',\n",
        "    max_depth=20,\n",
        "    criterion='absolute_error',\n",
        "    bootstrap=False)"
      ]
    },
    {
      "cell_type": "code",
      "execution_count": null,
      "metadata": {
        "id": "JaWwWApoZqv_"
      },
      "outputs": [],
      "source": []
    },
    {
      "cell_type": "code",
      "execution_count": null,
      "metadata": {
        "id": "pMtjKFF1ZrAt"
      },
      "outputs": [],
      "source": []
    },
    {
      "cell_type": "code",
      "execution_count": 253,
      "metadata": {
        "id": "zuDt8kIyavr-"
      },
      "outputs": [],
      "source": [
        "from sklearn.model_selection import RandomizedSearchCV\n",
        "\n",
        "# Update param_grid with valid criterion options for RandomForestRegressor\n",
        "param_grid = {\n",
        "    'n_estimators': [100, 200, 300, 400, 500],\n",
        "    'max_features': ['auto', 'sqrt', 'log2'],\n",
        "    'max_depth': [None, 10, 20, 30, 40, 50],\n",
        "    'min_samples_split': [2, 5, 10, 15],\n",
        "    'min_samples_leaf': [1, 2, 5, 10],\n",
        "    'bootstrap': [True, False],\n",
        "    'criterion': ['squared_error', 'absolute_error', 'poisson', 'friedman_mse'] # Changed to valid options\n",
        "}\n",
        "\n",
        "# Set up RandomizedSearchCV\n",
        "random_search = RandomizedSearchCV(estimator=model1,\n",
        "                                   param_distributions=param_grid,\n",
        "                                   n_iter=100,\n",
        "                                   cv=5,\n",
        "                                   verbose=2,\n",
        "                                   random_state=42,\n",
        "                                   n_jobs=-1)"
      ]
    },
    {
      "cell_type": "code",
      "execution_count": 254,
      "metadata": {
        "id": "geg9y9paa-aj"
      },
      "outputs": [
        {
          "ename": "AttributeError",
          "evalue": "'RandomizedSearchCV' object has no attribute 'best_params_'",
          "output_type": "error",
          "traceback": [
            "\u001b[1;31m---------------------------------------------------------------------------\u001b[0m",
            "\u001b[1;31mAttributeError\u001b[0m                            Traceback (most recent call last)",
            "Cell \u001b[1;32mIn[254], line 1\u001b[0m\n\u001b[1;32m----> 1\u001b[0m \u001b[43mrandom_search\u001b[49m\u001b[38;5;241;43m.\u001b[39;49m\u001b[43mbest_params_\u001b[49m\n",
            "\u001b[1;31mAttributeError\u001b[0m: 'RandomizedSearchCV' object has no attribute 'best_params_'"
          ]
        }
      ],
      "source": [
        "random_search.best_params_"
      ]
    },
    {
      "cell_type": "code",
      "execution_count": 255,
      "metadata": {
        "id": "0o2Z2VcdhSQT"
      },
      "outputs": [
        {
          "data": {
            "text/html": [
              "<style>#sk-container-id-4 {\n",
              "  /* Definition of color scheme common for light and dark mode */\n",
              "  --sklearn-color-text: black;\n",
              "  --sklearn-color-line: gray;\n",
              "  /* Definition of color scheme for unfitted estimators */\n",
              "  --sklearn-color-unfitted-level-0: #fff5e6;\n",
              "  --sklearn-color-unfitted-level-1: #f6e4d2;\n",
              "  --sklearn-color-unfitted-level-2: #ffe0b3;\n",
              "  --sklearn-color-unfitted-level-3: chocolate;\n",
              "  /* Definition of color scheme for fitted estimators */\n",
              "  --sklearn-color-fitted-level-0: #f0f8ff;\n",
              "  --sklearn-color-fitted-level-1: #d4ebff;\n",
              "  --sklearn-color-fitted-level-2: #b3dbfd;\n",
              "  --sklearn-color-fitted-level-3: cornflowerblue;\n",
              "\n",
              "  /* Specific color for light theme */\n",
              "  --sklearn-color-text-on-default-background: var(--sg-text-color, var(--theme-code-foreground, var(--jp-content-font-color1, black)));\n",
              "  --sklearn-color-background: var(--sg-background-color, var(--theme-background, var(--jp-layout-color0, white)));\n",
              "  --sklearn-color-border-box: var(--sg-text-color, var(--theme-code-foreground, var(--jp-content-font-color1, black)));\n",
              "  --sklearn-color-icon: #696969;\n",
              "\n",
              "  @media (prefers-color-scheme: dark) {\n",
              "    /* Redefinition of color scheme for dark theme */\n",
              "    --sklearn-color-text-on-default-background: var(--sg-text-color, var(--theme-code-foreground, var(--jp-content-font-color1, white)));\n",
              "    --sklearn-color-background: var(--sg-background-color, var(--theme-background, var(--jp-layout-color0, #111)));\n",
              "    --sklearn-color-border-box: var(--sg-text-color, var(--theme-code-foreground, var(--jp-content-font-color1, white)));\n",
              "    --sklearn-color-icon: #878787;\n",
              "  }\n",
              "}\n",
              "\n",
              "#sk-container-id-4 {\n",
              "  color: var(--sklearn-color-text);\n",
              "}\n",
              "\n",
              "#sk-container-id-4 pre {\n",
              "  padding: 0;\n",
              "}\n",
              "\n",
              "#sk-container-id-4 input.sk-hidden--visually {\n",
              "  border: 0;\n",
              "  clip: rect(1px 1px 1px 1px);\n",
              "  clip: rect(1px, 1px, 1px, 1px);\n",
              "  height: 1px;\n",
              "  margin: -1px;\n",
              "  overflow: hidden;\n",
              "  padding: 0;\n",
              "  position: absolute;\n",
              "  width: 1px;\n",
              "}\n",
              "\n",
              "#sk-container-id-4 div.sk-dashed-wrapped {\n",
              "  border: 1px dashed var(--sklearn-color-line);\n",
              "  margin: 0 0.4em 0.5em 0.4em;\n",
              "  box-sizing: border-box;\n",
              "  padding-bottom: 0.4em;\n",
              "  background-color: var(--sklearn-color-background);\n",
              "}\n",
              "\n",
              "#sk-container-id-4 div.sk-container {\n",
              "  /* jupyter's `normalize.less` sets `[hidden] { display: none; }`\n",
              "     but bootstrap.min.css set `[hidden] { display: none !important; }`\n",
              "     so we also need the `!important` here to be able to override the\n",
              "     default hidden behavior on the sphinx rendered scikit-learn.org.\n",
              "     See: https://github.com/scikit-learn/scikit-learn/issues/21755 */\n",
              "  display: inline-block !important;\n",
              "  position: relative;\n",
              "}\n",
              "\n",
              "#sk-container-id-4 div.sk-text-repr-fallback {\n",
              "  display: none;\n",
              "}\n",
              "\n",
              "div.sk-parallel-item,\n",
              "div.sk-serial,\n",
              "div.sk-item {\n",
              "  /* draw centered vertical line to link estimators */\n",
              "  background-image: linear-gradient(var(--sklearn-color-text-on-default-background), var(--sklearn-color-text-on-default-background));\n",
              "  background-size: 2px 100%;\n",
              "  background-repeat: no-repeat;\n",
              "  background-position: center center;\n",
              "}\n",
              "\n",
              "/* Parallel-specific style estimator block */\n",
              "\n",
              "#sk-container-id-4 div.sk-parallel-item::after {\n",
              "  content: \"\";\n",
              "  width: 100%;\n",
              "  border-bottom: 2px solid var(--sklearn-color-text-on-default-background);\n",
              "  flex-grow: 1;\n",
              "}\n",
              "\n",
              "#sk-container-id-4 div.sk-parallel {\n",
              "  display: flex;\n",
              "  align-items: stretch;\n",
              "  justify-content: center;\n",
              "  background-color: var(--sklearn-color-background);\n",
              "  position: relative;\n",
              "}\n",
              "\n",
              "#sk-container-id-4 div.sk-parallel-item {\n",
              "  display: flex;\n",
              "  flex-direction: column;\n",
              "}\n",
              "\n",
              "#sk-container-id-4 div.sk-parallel-item:first-child::after {\n",
              "  align-self: flex-end;\n",
              "  width: 50%;\n",
              "}\n",
              "\n",
              "#sk-container-id-4 div.sk-parallel-item:last-child::after {\n",
              "  align-self: flex-start;\n",
              "  width: 50%;\n",
              "}\n",
              "\n",
              "#sk-container-id-4 div.sk-parallel-item:only-child::after {\n",
              "  width: 0;\n",
              "}\n",
              "\n",
              "/* Serial-specific style estimator block */\n",
              "\n",
              "#sk-container-id-4 div.sk-serial {\n",
              "  display: flex;\n",
              "  flex-direction: column;\n",
              "  align-items: center;\n",
              "  background-color: var(--sklearn-color-background);\n",
              "  padding-right: 1em;\n",
              "  padding-left: 1em;\n",
              "}\n",
              "\n",
              "\n",
              "/* Toggleable style: style used for estimator/Pipeline/ColumnTransformer box that is\n",
              "clickable and can be expanded/collapsed.\n",
              "- Pipeline and ColumnTransformer use this feature and define the default style\n",
              "- Estimators will overwrite some part of the style using the `sk-estimator` class\n",
              "*/\n",
              "\n",
              "/* Pipeline and ColumnTransformer style (default) */\n",
              "\n",
              "#sk-container-id-4 div.sk-toggleable {\n",
              "  /* Default theme specific background. It is overwritten whether we have a\n",
              "  specific estimator or a Pipeline/ColumnTransformer */\n",
              "  background-color: var(--sklearn-color-background);\n",
              "}\n",
              "\n",
              "/* Toggleable label */\n",
              "#sk-container-id-4 label.sk-toggleable__label {\n",
              "  cursor: pointer;\n",
              "  display: block;\n",
              "  width: 100%;\n",
              "  margin-bottom: 0;\n",
              "  padding: 0.5em;\n",
              "  box-sizing: border-box;\n",
              "  text-align: center;\n",
              "}\n",
              "\n",
              "#sk-container-id-4 label.sk-toggleable__label-arrow:before {\n",
              "  /* Arrow on the left of the label */\n",
              "  content: \"▸\";\n",
              "  float: left;\n",
              "  margin-right: 0.25em;\n",
              "  color: var(--sklearn-color-icon);\n",
              "}\n",
              "\n",
              "#sk-container-id-4 label.sk-toggleable__label-arrow:hover:before {\n",
              "  color: var(--sklearn-color-text);\n",
              "}\n",
              "\n",
              "/* Toggleable content - dropdown */\n",
              "\n",
              "#sk-container-id-4 div.sk-toggleable__content {\n",
              "  max-height: 0;\n",
              "  max-width: 0;\n",
              "  overflow: hidden;\n",
              "  text-align: left;\n",
              "  /* unfitted */\n",
              "  background-color: var(--sklearn-color-unfitted-level-0);\n",
              "}\n",
              "\n",
              "#sk-container-id-4 div.sk-toggleable__content.fitted {\n",
              "  /* fitted */\n",
              "  background-color: var(--sklearn-color-fitted-level-0);\n",
              "}\n",
              "\n",
              "#sk-container-id-4 div.sk-toggleable__content pre {\n",
              "  margin: 0.2em;\n",
              "  border-radius: 0.25em;\n",
              "  color: var(--sklearn-color-text);\n",
              "  /* unfitted */\n",
              "  background-color: var(--sklearn-color-unfitted-level-0);\n",
              "}\n",
              "\n",
              "#sk-container-id-4 div.sk-toggleable__content.fitted pre {\n",
              "  /* unfitted */\n",
              "  background-color: var(--sklearn-color-fitted-level-0);\n",
              "}\n",
              "\n",
              "#sk-container-id-4 input.sk-toggleable__control:checked~div.sk-toggleable__content {\n",
              "  /* Expand drop-down */\n",
              "  max-height: 200px;\n",
              "  max-width: 100%;\n",
              "  overflow: auto;\n",
              "}\n",
              "\n",
              "#sk-container-id-4 input.sk-toggleable__control:checked~label.sk-toggleable__label-arrow:before {\n",
              "  content: \"▾\";\n",
              "}\n",
              "\n",
              "/* Pipeline/ColumnTransformer-specific style */\n",
              "\n",
              "#sk-container-id-4 div.sk-label input.sk-toggleable__control:checked~label.sk-toggleable__label {\n",
              "  color: var(--sklearn-color-text);\n",
              "  background-color: var(--sklearn-color-unfitted-level-2);\n",
              "}\n",
              "\n",
              "#sk-container-id-4 div.sk-label.fitted input.sk-toggleable__control:checked~label.sk-toggleable__label {\n",
              "  background-color: var(--sklearn-color-fitted-level-2);\n",
              "}\n",
              "\n",
              "/* Estimator-specific style */\n",
              "\n",
              "/* Colorize estimator box */\n",
              "#sk-container-id-4 div.sk-estimator input.sk-toggleable__control:checked~label.sk-toggleable__label {\n",
              "  /* unfitted */\n",
              "  background-color: var(--sklearn-color-unfitted-level-2);\n",
              "}\n",
              "\n",
              "#sk-container-id-4 div.sk-estimator.fitted input.sk-toggleable__control:checked~label.sk-toggleable__label {\n",
              "  /* fitted */\n",
              "  background-color: var(--sklearn-color-fitted-level-2);\n",
              "}\n",
              "\n",
              "#sk-container-id-4 div.sk-label label.sk-toggleable__label,\n",
              "#sk-container-id-4 div.sk-label label {\n",
              "  /* The background is the default theme color */\n",
              "  color: var(--sklearn-color-text-on-default-background);\n",
              "}\n",
              "\n",
              "/* On hover, darken the color of the background */\n",
              "#sk-container-id-4 div.sk-label:hover label.sk-toggleable__label {\n",
              "  color: var(--sklearn-color-text);\n",
              "  background-color: var(--sklearn-color-unfitted-level-2);\n",
              "}\n",
              "\n",
              "/* Label box, darken color on hover, fitted */\n",
              "#sk-container-id-4 div.sk-label.fitted:hover label.sk-toggleable__label.fitted {\n",
              "  color: var(--sklearn-color-text);\n",
              "  background-color: var(--sklearn-color-fitted-level-2);\n",
              "}\n",
              "\n",
              "/* Estimator label */\n",
              "\n",
              "#sk-container-id-4 div.sk-label label {\n",
              "  font-family: monospace;\n",
              "  font-weight: bold;\n",
              "  display: inline-block;\n",
              "  line-height: 1.2em;\n",
              "}\n",
              "\n",
              "#sk-container-id-4 div.sk-label-container {\n",
              "  text-align: center;\n",
              "}\n",
              "\n",
              "/* Estimator-specific */\n",
              "#sk-container-id-4 div.sk-estimator {\n",
              "  font-family: monospace;\n",
              "  border: 1px dotted var(--sklearn-color-border-box);\n",
              "  border-radius: 0.25em;\n",
              "  box-sizing: border-box;\n",
              "  margin-bottom: 0.5em;\n",
              "  /* unfitted */\n",
              "  background-color: var(--sklearn-color-unfitted-level-0);\n",
              "}\n",
              "\n",
              "#sk-container-id-4 div.sk-estimator.fitted {\n",
              "  /* fitted */\n",
              "  background-color: var(--sklearn-color-fitted-level-0);\n",
              "}\n",
              "\n",
              "/* on hover */\n",
              "#sk-container-id-4 div.sk-estimator:hover {\n",
              "  /* unfitted */\n",
              "  background-color: var(--sklearn-color-unfitted-level-2);\n",
              "}\n",
              "\n",
              "#sk-container-id-4 div.sk-estimator.fitted:hover {\n",
              "  /* fitted */\n",
              "  background-color: var(--sklearn-color-fitted-level-2);\n",
              "}\n",
              "\n",
              "/* Specification for estimator info (e.g. \"i\" and \"?\") */\n",
              "\n",
              "/* Common style for \"i\" and \"?\" */\n",
              "\n",
              ".sk-estimator-doc-link,\n",
              "a:link.sk-estimator-doc-link,\n",
              "a:visited.sk-estimator-doc-link {\n",
              "  float: right;\n",
              "  font-size: smaller;\n",
              "  line-height: 1em;\n",
              "  font-family: monospace;\n",
              "  background-color: var(--sklearn-color-background);\n",
              "  border-radius: 1em;\n",
              "  height: 1em;\n",
              "  width: 1em;\n",
              "  text-decoration: none !important;\n",
              "  margin-left: 1ex;\n",
              "  /* unfitted */\n",
              "  border: var(--sklearn-color-unfitted-level-1) 1pt solid;\n",
              "  color: var(--sklearn-color-unfitted-level-1);\n",
              "}\n",
              "\n",
              ".sk-estimator-doc-link.fitted,\n",
              "a:link.sk-estimator-doc-link.fitted,\n",
              "a:visited.sk-estimator-doc-link.fitted {\n",
              "  /* fitted */\n",
              "  border: var(--sklearn-color-fitted-level-1) 1pt solid;\n",
              "  color: var(--sklearn-color-fitted-level-1);\n",
              "}\n",
              "\n",
              "/* On hover */\n",
              "div.sk-estimator:hover .sk-estimator-doc-link:hover,\n",
              ".sk-estimator-doc-link:hover,\n",
              "div.sk-label-container:hover .sk-estimator-doc-link:hover,\n",
              ".sk-estimator-doc-link:hover {\n",
              "  /* unfitted */\n",
              "  background-color: var(--sklearn-color-unfitted-level-3);\n",
              "  color: var(--sklearn-color-background);\n",
              "  text-decoration: none;\n",
              "}\n",
              "\n",
              "div.sk-estimator.fitted:hover .sk-estimator-doc-link.fitted:hover,\n",
              ".sk-estimator-doc-link.fitted:hover,\n",
              "div.sk-label-container:hover .sk-estimator-doc-link.fitted:hover,\n",
              ".sk-estimator-doc-link.fitted:hover {\n",
              "  /* fitted */\n",
              "  background-color: var(--sklearn-color-fitted-level-3);\n",
              "  color: var(--sklearn-color-background);\n",
              "  text-decoration: none;\n",
              "}\n",
              "\n",
              "/* Span, style for the box shown on hovering the info icon */\n",
              ".sk-estimator-doc-link span {\n",
              "  display: none;\n",
              "  z-index: 9999;\n",
              "  position: relative;\n",
              "  font-weight: normal;\n",
              "  right: .2ex;\n",
              "  padding: .5ex;\n",
              "  margin: .5ex;\n",
              "  width: min-content;\n",
              "  min-width: 20ex;\n",
              "  max-width: 50ex;\n",
              "  color: var(--sklearn-color-text);\n",
              "  box-shadow: 2pt 2pt 4pt #999;\n",
              "  /* unfitted */\n",
              "  background: var(--sklearn-color-unfitted-level-0);\n",
              "  border: .5pt solid var(--sklearn-color-unfitted-level-3);\n",
              "}\n",
              "\n",
              ".sk-estimator-doc-link.fitted span {\n",
              "  /* fitted */\n",
              "  background: var(--sklearn-color-fitted-level-0);\n",
              "  border: var(--sklearn-color-fitted-level-3);\n",
              "}\n",
              "\n",
              ".sk-estimator-doc-link:hover span {\n",
              "  display: block;\n",
              "}\n",
              "\n",
              "/* \"?\"-specific style due to the `<a>` HTML tag */\n",
              "\n",
              "#sk-container-id-4 a.estimator_doc_link {\n",
              "  float: right;\n",
              "  font-size: 1rem;\n",
              "  line-height: 1em;\n",
              "  font-family: monospace;\n",
              "  background-color: var(--sklearn-color-background);\n",
              "  border-radius: 1rem;\n",
              "  height: 1rem;\n",
              "  width: 1rem;\n",
              "  text-decoration: none;\n",
              "  /* unfitted */\n",
              "  color: var(--sklearn-color-unfitted-level-1);\n",
              "  border: var(--sklearn-color-unfitted-level-1) 1pt solid;\n",
              "}\n",
              "\n",
              "#sk-container-id-4 a.estimator_doc_link.fitted {\n",
              "  /* fitted */\n",
              "  border: var(--sklearn-color-fitted-level-1) 1pt solid;\n",
              "  color: var(--sklearn-color-fitted-level-1);\n",
              "}\n",
              "\n",
              "/* On hover */\n",
              "#sk-container-id-4 a.estimator_doc_link:hover {\n",
              "  /* unfitted */\n",
              "  background-color: var(--sklearn-color-unfitted-level-3);\n",
              "  color: var(--sklearn-color-background);\n",
              "  text-decoration: none;\n",
              "}\n",
              "\n",
              "#sk-container-id-4 a.estimator_doc_link.fitted:hover {\n",
              "  /* fitted */\n",
              "  background-color: var(--sklearn-color-fitted-level-3);\n",
              "}\n",
              "</style><div id=\"sk-container-id-4\" class=\"sk-top-container\"><div class=\"sk-text-repr-fallback\"><pre>RandomForestRegressor(bootstrap=False, criterion=&#x27;absolute_error&#x27;, max_depth=20,\n",
              "                      max_features=&#x27;log2&#x27;, min_samples_split=5,\n",
              "                      n_estimators=500)</pre><b>In a Jupyter environment, please rerun this cell to show the HTML representation or trust the notebook. <br />On GitHub, the HTML representation is unable to render, please try loading this page with nbviewer.org.</b></div><div class=\"sk-container\" hidden><div class=\"sk-item\"><div class=\"sk-estimator fitted sk-toggleable\"><input class=\"sk-toggleable__control sk-hidden--visually\" id=\"sk-estimator-id-4\" type=\"checkbox\" checked><label for=\"sk-estimator-id-4\" class=\"sk-toggleable__label fitted sk-toggleable__label-arrow fitted\">&nbsp;&nbsp;RandomForestRegressor<a class=\"sk-estimator-doc-link fitted\" rel=\"noreferrer\" target=\"_blank\" href=\"https://scikit-learn.org/1.5/modules/generated/sklearn.ensemble.RandomForestRegressor.html\">?<span>Documentation for RandomForestRegressor</span></a><span class=\"sk-estimator-doc-link fitted\">i<span>Fitted</span></span></label><div class=\"sk-toggleable__content fitted\"><pre>RandomForestRegressor(bootstrap=False, criterion=&#x27;absolute_error&#x27;, max_depth=20,\n",
              "                      max_features=&#x27;log2&#x27;, min_samples_split=5,\n",
              "                      n_estimators=500)</pre></div> </div></div></div></div>"
            ],
            "text/plain": [
              "RandomForestRegressor(bootstrap=False, criterion='absolute_error', max_depth=20,\n",
              "                      max_features='log2', min_samples_split=5,\n",
              "                      n_estimators=500)"
            ]
          },
          "execution_count": 255,
          "metadata": {},
          "output_type": "execute_result"
        }
      ],
      "source": [
        "model1.fit(X_train,y_train)"
      ]
    },
    {
      "cell_type": "code",
      "execution_count": 86,
      "metadata": {
        "id": "XALFtTgEhrTF"
      },
      "outputs": [],
      "source": [
        "y_pred=model1.predict(X_test)"
      ]
    },
    {
      "cell_type": "code",
      "execution_count": 87,
      "metadata": {
        "id": "vn6jlo3ah9jl"
      },
      "outputs": [
        {
          "name": "stdout",
          "output_type": "stream",
          "text": [
            "Mean Squared Error: 40744570289017.73\n"
          ]
        }
      ],
      "source": [
        "mse = mean_squared_error(y_test, y_pred)\n",
        "\n",
        "print(f\"Mean Squared Error: {mse}\")"
      ]
    },
    {
      "cell_type": "code",
      "execution_count": null,
      "metadata": {
        "id": "QZO3VZFviA09"
      },
      "outputs": [],
      "source": []
    },
    {
      "cell_type": "code",
      "execution_count": 256,
      "metadata": {
        "id": "OjneX_GFiaOf"
      },
      "outputs": [
        {
          "name": "stdout",
          "output_type": "stream",
          "text": [
            "Accuracy of model1: 92.90%\n"
          ]
        }
      ],
      "source": [
        "# Assuming X_test and y_test are your test data\n",
        "accuracy = model1.score(X_test, y_test)\n",
        "\n",
        "print(f\"Accuracy of model1: {accuracy * 100:.2f}%\")\n"
      ]
    },
    {
      "cell_type": "code",
      "execution_count": 89,
      "metadata": {
        "id": "JMEwu9gxigxD"
      },
      "outputs": [],
      "source": [
        "import pickle\n",
        "\n",
        "# Save the model to a file\n",
        "with open('model1.pkl', 'wb') as file:\n",
        "    pickle.dump(model1, file)"
      ]
    },
    {
      "cell_type": "code",
      "execution_count": null,
      "metadata": {},
      "outputs": [],
      "source": []
    },
    {
      "cell_type": "code",
      "execution_count": null,
      "metadata": {},
      "outputs": [],
      "source": []
    },
    {
      "cell_type": "code",
      "execution_count": null,
      "metadata": {},
      "outputs": [],
      "source": []
    },
    {
      "cell_type": "code",
      "execution_count": null,
      "metadata": {},
      "outputs": [],
      "source": []
    },
    {
      "cell_type": "code",
      "execution_count": null,
      "metadata": {},
      "outputs": [],
      "source": []
    }
  ],
  "metadata": {
    "colab": {
      "private_outputs": true,
      "provenance": []
    },
    "kernelspec": {
      "display_name": "Python 3",
      "name": "python3"
    },
    "language_info": {
      "codemirror_mode": {
        "name": "ipython",
        "version": 3
      },
      "file_extension": ".py",
      "mimetype": "text/x-python",
      "name": "python",
      "nbconvert_exporter": "python",
      "pygments_lexer": "ipython3",
      "version": "3.12.5"
    }
  },
  "nbformat": 4,
  "nbformat_minor": 0
}
